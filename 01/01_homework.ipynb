{
 "cells": [
  {
   "cell_type": "markdown",
   "metadata": {},
   "source": [
    "# Homework 1 - data validation & cleaning (deadline 31. 10. 2020)\n",
    "\n",
    "In short, the main task is to clean The Metropolitan Museum of Art Open Access dataset.\n",
    "  \n",
    "> The instructions are not given in details: It is up to you to come up with ideas on how to fulfill the particular tasks as best you can!\n",
    "\n",
    "## What are you supposed to do:\n",
    "\n",
    "  1. Download the dataset MetObjects.csv from the repository https://github.com/metmuseum/openaccess/.\n",
    "  2. Check consistency (i.e. that same things are represented in the same way) of at least three features where you expect problems (include \"Object Name\" feature). You can propose how to clean selected features, however do not apply cleaning (in your interest) :)\n",
    "  3. Select some features where you expect integrity problems (describe your choice) and check integrity of those features. By integrity we mean correct logical relations between features (e.g. female names for females only).\n",
    "  4. Convert at least five features to a proper data type. Choose at least one numeric, one categorical and one datetime.\n",
    "  5. Find some outliers (describe your method).\n",
    "  6. Detect missing data in at least three features, convert them to a proper representation (if they are already not), and impute missing values in at least one feature.\n",
    "\n",
    "**If you do all this properly, you will obtain 16 points.** However, all your steps and following code **have to be commented!**\n",
    "\n",
    "To earn **two points** for extra activity you can do some of these:\n",
    "  * Focus more precisely on cleaning of the \"Medium\" feature. Such if you like to use it in KNN based algorithms later.\n",
    "  * Focus on the extraction of physical dimensions of each item (width, depth and height in centimeters) from the \"Dimensions\" feature.\n",
    "\n",
    "## Comments\n",
    "\n",
    "  * Please follow the instructions from https://courses.fit.cvut.cz/MI-PDD/homeworks/index.html.\n",
    "  * If the reviewing teacher is not satisfied, she can (!) give you another chance to rework your homework and to obtain more points. However, this is not a given, so do your best! :)"
   ]
  },
  {
   "cell_type": "markdown",
   "metadata": {},
   "source": [
    "## Insert\n",
    "   * Nejprve naimportujeme všechny potřebné knihovny"
   ]
  },
  {
   "cell_type": "code",
   "execution_count": 1,
   "metadata": {},
   "outputs": [],
   "source": [
    "import numpy as np\n",
    "import pandas as pd\n",
    "import matplotlib.pyplot as plt\n",
    "%matplotlib inline\n",
    "import seaborn as sns\n",
    "from functools import reduce\n",
    "pd.options.mode.chained_assignment = None\n",
    "import math\n",
    "from sklearn.cluster import KMeans"
   ]
  },
  {
   "cell_type": "code",
   "execution_count": 2,
   "metadata": {},
   "outputs": [
    {
     "data": {
      "text/html": [
       "<div>\n",
       "<style scoped>\n",
       "    .dataframe tbody tr th:only-of-type {\n",
       "        vertical-align: middle;\n",
       "    }\n",
       "\n",
       "    .dataframe tbody tr th {\n",
       "        vertical-align: top;\n",
       "    }\n",
       "\n",
       "    .dataframe thead th {\n",
       "        text-align: right;\n",
       "    }\n",
       "</style>\n",
       "<table border=\"1\" class=\"dataframe\">\n",
       "  <thead>\n",
       "    <tr style=\"text-align: right;\">\n",
       "      <th></th>\n",
       "      <th>Object Number</th>\n",
       "      <th>Is Highlight</th>\n",
       "      <th>Is Timeline Work</th>\n",
       "      <th>Is Public Domain</th>\n",
       "      <th>Object ID</th>\n",
       "      <th>Gallery Number</th>\n",
       "      <th>Department</th>\n",
       "      <th>AccessionYear</th>\n",
       "      <th>Object Name</th>\n",
       "      <th>Title</th>\n",
       "      <th>...</th>\n",
       "      <th>River</th>\n",
       "      <th>Classification</th>\n",
       "      <th>Rights and Reproduction</th>\n",
       "      <th>Link Resource</th>\n",
       "      <th>Object Wikidata URL</th>\n",
       "      <th>Metadata Date</th>\n",
       "      <th>Repository</th>\n",
       "      <th>Tags</th>\n",
       "      <th>Tags AAT URL</th>\n",
       "      <th>Tags Wikidata URL</th>\n",
       "    </tr>\n",
       "  </thead>\n",
       "  <tbody>\n",
       "    <tr>\n",
       "      <th>0</th>\n",
       "      <td>1979.486.1</td>\n",
       "      <td>False</td>\n",
       "      <td>False</td>\n",
       "      <td>False</td>\n",
       "      <td>1</td>\n",
       "      <td>NaN</td>\n",
       "      <td>The American Wing</td>\n",
       "      <td>1979</td>\n",
       "      <td>Coin</td>\n",
       "      <td>One-dollar Liberty Head Coin</td>\n",
       "      <td>...</td>\n",
       "      <td>NaN</td>\n",
       "      <td>Metal</td>\n",
       "      <td>NaN</td>\n",
       "      <td>http://www.metmuseum.org/art/collection/search/1</td>\n",
       "      <td>NaN</td>\n",
       "      <td>NaN</td>\n",
       "      <td>Metropolitan Museum of Art, New York, NY</td>\n",
       "      <td>NaN</td>\n",
       "      <td>NaN</td>\n",
       "      <td>NaN</td>\n",
       "    </tr>\n",
       "    <tr>\n",
       "      <th>1</th>\n",
       "      <td>1980.264.5</td>\n",
       "      <td>False</td>\n",
       "      <td>False</td>\n",
       "      <td>False</td>\n",
       "      <td>2</td>\n",
       "      <td>NaN</td>\n",
       "      <td>The American Wing</td>\n",
       "      <td>1980</td>\n",
       "      <td>Coin</td>\n",
       "      <td>Ten-dollar Liberty Head Coin</td>\n",
       "      <td>...</td>\n",
       "      <td>NaN</td>\n",
       "      <td>Metal</td>\n",
       "      <td>NaN</td>\n",
       "      <td>http://www.metmuseum.org/art/collection/search/2</td>\n",
       "      <td>NaN</td>\n",
       "      <td>NaN</td>\n",
       "      <td>Metropolitan Museum of Art, New York, NY</td>\n",
       "      <td>NaN</td>\n",
       "      <td>NaN</td>\n",
       "      <td>NaN</td>\n",
       "    </tr>\n",
       "    <tr>\n",
       "      <th>2</th>\n",
       "      <td>67.265.9</td>\n",
       "      <td>False</td>\n",
       "      <td>False</td>\n",
       "      <td>False</td>\n",
       "      <td>3</td>\n",
       "      <td>NaN</td>\n",
       "      <td>The American Wing</td>\n",
       "      <td>1967</td>\n",
       "      <td>Coin</td>\n",
       "      <td>Two-and-a-Half Dollar Coin</td>\n",
       "      <td>...</td>\n",
       "      <td>NaN</td>\n",
       "      <td>Metal</td>\n",
       "      <td>NaN</td>\n",
       "      <td>http://www.metmuseum.org/art/collection/search/3</td>\n",
       "      <td>NaN</td>\n",
       "      <td>NaN</td>\n",
       "      <td>Metropolitan Museum of Art, New York, NY</td>\n",
       "      <td>NaN</td>\n",
       "      <td>NaN</td>\n",
       "      <td>NaN</td>\n",
       "    </tr>\n",
       "    <tr>\n",
       "      <th>3</th>\n",
       "      <td>67.265.10</td>\n",
       "      <td>False</td>\n",
       "      <td>False</td>\n",
       "      <td>False</td>\n",
       "      <td>4</td>\n",
       "      <td>NaN</td>\n",
       "      <td>The American Wing</td>\n",
       "      <td>1967</td>\n",
       "      <td>Coin</td>\n",
       "      <td>Two-and-a-Half Dollar Coin</td>\n",
       "      <td>...</td>\n",
       "      <td>NaN</td>\n",
       "      <td>Metal</td>\n",
       "      <td>NaN</td>\n",
       "      <td>http://www.metmuseum.org/art/collection/search/4</td>\n",
       "      <td>NaN</td>\n",
       "      <td>NaN</td>\n",
       "      <td>Metropolitan Museum of Art, New York, NY</td>\n",
       "      <td>NaN</td>\n",
       "      <td>NaN</td>\n",
       "      <td>NaN</td>\n",
       "    </tr>\n",
       "    <tr>\n",
       "      <th>4</th>\n",
       "      <td>67.265.11</td>\n",
       "      <td>False</td>\n",
       "      <td>False</td>\n",
       "      <td>False</td>\n",
       "      <td>5</td>\n",
       "      <td>NaN</td>\n",
       "      <td>The American Wing</td>\n",
       "      <td>1967</td>\n",
       "      <td>Coin</td>\n",
       "      <td>Two-and-a-Half Dollar Coin</td>\n",
       "      <td>...</td>\n",
       "      <td>NaN</td>\n",
       "      <td>Metal</td>\n",
       "      <td>NaN</td>\n",
       "      <td>http://www.metmuseum.org/art/collection/search/5</td>\n",
       "      <td>NaN</td>\n",
       "      <td>NaN</td>\n",
       "      <td>Metropolitan Museum of Art, New York, NY</td>\n",
       "      <td>NaN</td>\n",
       "      <td>NaN</td>\n",
       "      <td>NaN</td>\n",
       "    </tr>\n",
       "  </tbody>\n",
       "</table>\n",
       "<p>5 rows × 54 columns</p>\n",
       "</div>"
      ],
      "text/plain": [
       "  Object Number  Is Highlight  Is Timeline Work  Is Public Domain  Object ID  \\\n",
       "0    1979.486.1         False             False             False          1   \n",
       "1    1980.264.5         False             False             False          2   \n",
       "2      67.265.9         False             False             False          3   \n",
       "3     67.265.10         False             False             False          4   \n",
       "4     67.265.11         False             False             False          5   \n",
       "\n",
       "  Gallery Number         Department AccessionYear Object Name  \\\n",
       "0            NaN  The American Wing          1979        Coin   \n",
       "1            NaN  The American Wing          1980        Coin   \n",
       "2            NaN  The American Wing          1967        Coin   \n",
       "3            NaN  The American Wing          1967        Coin   \n",
       "4            NaN  The American Wing          1967        Coin   \n",
       "\n",
       "                          Title  ... River Classification  \\\n",
       "0  One-dollar Liberty Head Coin  ...   NaN          Metal   \n",
       "1  Ten-dollar Liberty Head Coin  ...   NaN          Metal   \n",
       "2    Two-and-a-Half Dollar Coin  ...   NaN          Metal   \n",
       "3    Two-and-a-Half Dollar Coin  ...   NaN          Metal   \n",
       "4    Two-and-a-Half Dollar Coin  ...   NaN          Metal   \n",
       "\n",
       "  Rights and Reproduction                                     Link Resource  \\\n",
       "0                     NaN  http://www.metmuseum.org/art/collection/search/1   \n",
       "1                     NaN  http://www.metmuseum.org/art/collection/search/2   \n",
       "2                     NaN  http://www.metmuseum.org/art/collection/search/3   \n",
       "3                     NaN  http://www.metmuseum.org/art/collection/search/4   \n",
       "4                     NaN  http://www.metmuseum.org/art/collection/search/5   \n",
       "\n",
       "  Object Wikidata URL Metadata Date                                Repository  \\\n",
       "0                 NaN           NaN  Metropolitan Museum of Art, New York, NY   \n",
       "1                 NaN           NaN  Metropolitan Museum of Art, New York, NY   \n",
       "2                 NaN           NaN  Metropolitan Museum of Art, New York, NY   \n",
       "3                 NaN           NaN  Metropolitan Museum of Art, New York, NY   \n",
       "4                 NaN           NaN  Metropolitan Museum of Art, New York, NY   \n",
       "\n",
       "  Tags Tags AAT URL Tags Wikidata URL  \n",
       "0  NaN          NaN               NaN  \n",
       "1  NaN          NaN               NaN  \n",
       "2  NaN          NaN               NaN  \n",
       "3  NaN          NaN               NaN  \n",
       "4  NaN          NaN               NaN  \n",
       "\n",
       "[5 rows x 54 columns]"
      ]
     },
     "execution_count": 2,
     "metadata": {},
     "output_type": "execute_result"
    }
   ],
   "source": [
    "df = pd.read_csv('MetObjects.csv', low_memory=False)\n",
    "df.head(5)"
   ]
  },
  {
   "cell_type": "code",
   "execution_count": 3,
   "metadata": {},
   "outputs": [],
   "source": [
    "#V případě potřeby je možné vypsat základní informace o všech příznacích\n",
    "#display(df.info())"
   ]
  },
  {
   "cell_type": "markdown",
   "metadata": {},
   "source": [
    "## 2. Kontrola konzistence - příznak \"Object Name\"\n",
    "\n",
    " * Jelikož se jedná o název nějakého objektu, měly by mít názvy nějakou rozumnou délku. Proto byl nejprve přidán příznak \"ObjectNameLen\", který obsahuje délku názvu objektu. První výstup nám zobrazí nejkratší a nejdelší názvy. Můžeme si všimnout obrovských rozdílů, máme zde názvy, které obsahují pouze dva znaky,což s největší pravděpodobností nebudou platné názvy. Naopak delší názvy mají klidně 13 slov, to ale nemůžeme považovat za chybu. V případě, že bychom chtěli příznak použít pro nějaké výpočty, je lepší možnost předpokládat, že názvy s kratší délkou než 3 nejsou validní (pro délku 3 lze najít slova, co dávají smysl).\n",
    " * První výstup také ukazuje, že některé hodnoty nejsou definované (NaN). V připadě, že bychom chtěli příznak použít pro nějaké výpočty, bylo by lepší tyto hodnoty smazat. \n",
    " * Další výstup vrací počet hodnot, které již v souboru existují, akorát se liší ve velkých/malých písmenech. V dalším výstupu jsou vypsány názvy, které nejsou tímto způsobem unikátní nebo názvy, které nemají na začátku velké písmeno, což je gramaticky trochu zvláštní. Můžeme si všimnout, že některý název je zapsán 4 různými způsoby ('Print' 'print' 'pRINT' 'PRINT'). Jediná možnost, jak takový nedostatek opravit, je převést vše do Lowercase nebo Uppercase.\n",
    " * Dále se dá předpokládat, že nekonzistentní názvy budou možná obsahovat nějaký speciální symbol. Správné by bylo vyzkoušet všechny, v tomto řešení se omezíme pouze na '?, '!', '/', '+' a '\\n'. Můžeme si všimnout, že každý z těchto symbolů může vrátit nějaký pochybný název. Otazník v závorce může naznačit, že název nemusí být zcela správný, hláška \"check date and identification !!\" také do názvu asi nepatří, hledání lomítka zase našlo názvy připomínající HTML jazyk, symbol pro novou řádku nemusí nutně představovat chybu, ale na první pohled také nebudí zrovna dobrý dojem. HTML prvky, \\n a \\r symboly by možná bylo lepší odstranit, názvy s \"(?)\" raději nepovažovat za validní.\n",
    " * Dále, jak už bylo řečeno, je zde mnoho hodnot NaN. \n",
    " * Poslední věc, která byla nalezena náhodou, lze vidět v jednom z předchozích bodů (bod 3 - malá/velká písmena). Některé názvy obsahují id jiného objektu (např. \"see 57.180.42\" nebo \"joined with 26.7.1236\"). Jednou z možností, jak tuto skutečnost opravit, je přidání nového příznaku, který by obsahoval informaci o případné vazbě na jiný objekt."
   ]
  },
  {
   "cell_type": "code",
   "execution_count": 4,
   "metadata": {},
   "outputs": [],
   "source": [
    "df['ObjectNameLen'] = df['Object Name'].str.len()"
   ]
  },
  {
   "cell_type": "code",
   "execution_count": 5,
   "metadata": {},
   "outputs": [
    {
     "name": "stdout",
     "output_type": "stream",
     "text": [
      "Ukázka hodnot:\n",
      "\n",
      "['Ax' 'Ūd' 'Se' ...\n",
      " 'Top two lames from a right thigh defense (Cuisse), possibly from armor for a boy'\n",
      " 'Mummy Label, Petemin, son of Petempto, son of Petemin the Younger, mother Thatre'\n",
      " nan]\n"
     ]
    }
   ],
   "source": [
    "print(\"Ukázka hodnot:\\n\")\n",
    "print(df.sort_values(by='ObjectNameLen', ascending=True)['Object Name'].unique())"
   ]
  },
  {
   "cell_type": "code",
   "execution_count": 6,
   "metadata": {},
   "outputs": [
    {
     "name": "stdout",
     "output_type": "stream",
     "text": [
      "Počet neunikátních hodnot: 823\n"
     ]
    }
   ],
   "source": [
    "print(\"Počet neunikátních hodnot: \" + str(df['Object Name'].unique().size - df['Object Name'].str.lower().unique().size))"
   ]
  },
  {
   "cell_type": "code",
   "execution_count": 7,
   "metadata": {},
   "outputs": [],
   "source": [
    "df10 = df['Object Name'].unique()\n",
    "df11 = df['Object Name'].str.lower().unique()"
   ]
  },
  {
   "cell_type": "code",
   "execution_count": 8,
   "metadata": {},
   "outputs": [
    {
     "name": "stdout",
     "output_type": "stream",
     "text": [
      "Ukázka stejných hodnot zapsaných různým způsobem:\n",
      "\n",
      "['Woodblock print (nishiki-e)' 'woodblock print (nishiki-e)']\n",
      "['Panel' 'panel']\n",
      "['Illustrated books' 'illustrated books']\n",
      "['Illustrated book' 'Illustrated Book' 'illustrated book']\n",
      "['Whorl' 'whorl']\n",
      "['Pilaster fragment' 'pilaster fragment']\n",
      "['Seal, amygdaloid' 'seal, amygdaloid']\n",
      "['Seal, lentoid' 'seal, lentoid']\n",
      "['Mold fragment' 'mold fragment']\n",
      "['Intaglio' 'intaglio']\n",
      "['Bell-krater' 'bell-krater']\n",
      "['Carte-de-visite' 'Carte-de-Visite' 'carte-de-visite']\n",
      "['Print ornament & architecture' 'Print Ornament & Architecture'\n",
      " 'print ornament & architecture' 'Print Ornament & architecture']\n",
      "['Print' 'print' 'pRINT' 'PRINT']\n",
      "['Lamp' 'lamp']\n",
      "['Ring' 'ring']\n",
      "['Jar' 'jar']\n",
      "['Fragment' 'fragment']\n",
      "['Hairpin' 'hairpin']\n",
      "['Sculpture' 'sculpture']\n",
      "['Statue' 'statue']\n",
      "['Statuette' 'statuette']\n",
      "['Teapot' 'teapot']\n",
      "['Harp' 'harp']\n",
      "['tube zither' 'Tube zither' 'Tube Zither']\n",
      "['Tabl-i baz' 'tabl-i baz']\n",
      "['circular trumpet' 'Circular Trumpet']\n",
      "['ax handle' 'Ax handle']\n",
      "['Bottle, Pomegranate' 'bottle, pomegranate']\n",
      "['String of ball beads' 'string of ball beads']\n",
      "['tool, blade' 'Tool, blade']\n",
      "['Ring, cowroid' 'ring, cowroid']\n",
      "['jar stopper' 'Jar Stopper' 'Jar stopper']\n",
      "['Heart scarab, uninscribed' 'Heart Scarab, uninscribed'\n",
      " 'heart scarab, uninscribed']\n",
      "['Finial, staff, scepter, whip' 'finial, staff, scepter, whip']\n",
      "['Staff finial' 'staff finial']\n",
      "['weight, 2 kedets' 'Weight, 2 kedets']\n",
      "['Glass fragment' 'glass fragment']\n",
      "['Mold' 'mold']\n",
      "['Cat' 'cat']\n",
      "['Ointment jar' 'ointment jar']\n",
      "['Papyrus burnisher' 'papyrus burnisher']\n",
      "['Falcon amulet' 'falcon amulet']\n",
      "['Amulet' 'amulet']\n",
      "['Amulet, Fly' 'Amulet, fly' 'amulet, fly']\n",
      "['Animal figure' 'animal figure']\n",
      "['Model cup' 'model cup']\n",
      "['Blade' 'blade']\n",
      "['Amulet, fly (?)' 'amulet, fly (?)']\n",
      "['Pendant, drop' 'pendant, drop']\n",
      "['Collar terminal, falcon head' 'collar terminal, falcon head']\n",
      "['obsidian, Debris' 'obsidian, debris' 'Obsidian, Debris']\n",
      "['See 21.9.431' 'see 21.9.431']\n",
      "['sickle, insert, denticulate, backed, geometric, tool'\n",
      " 'Sickle, insert, denticulate, backed, geometric, tool']\n",
      "['Weight, sinker, fish net' 'weight, sinker, fish net']\n",
      "['Tool' 'tool']\n",
      "['Knife, Bifacial Knife' 'Knife, bifacial knife' 'knife, Bifacial Knife'\n",
      " 'knife, bifacial knife']\n",
      "['model, yoke, basket, shabti' 'Model, yoke, basket, shabti']\n",
      "['Coin' 'coin']\n",
      "['plaque, floral, inlay' 'Plaque, floral, inlay']\n",
      "['Plaque, floral' 'plaque, floral']\n",
      "['Cane' 'cane']\n",
      "['blade, Retouched blade' 'blade, retouched blade']\n",
      "['Flake' 'flake']\n",
      "['Amulet, Djed pillar' 'Amulet, djed pillar' 'amulet, djed pillar']\n",
      "['Wall revetment' 'wall revetment']\n",
      "[\"Archer's ring\" \"Archer's Ring\" \"archer's ring\"]\n",
      "['Model jar' 'model jar']\n",
      "['bead with applied mosaic strips' 'Bead with applied mosaic strips']\n",
      "['Blade, Tool' 'blade, tool']\n",
      "['Bead' 'bead']\n",
      "['screen print' 'Screen print']\n",
      "['Woodblock print' 'woodblock print']\n",
      "['Cut paper' 'Cut Paper' 'cut paper']\n",
      "['Book' 'book']\n",
      "['Cabinet card' 'Cabinet Card' 'cabinet card']\n",
      "['Wedjat eye amulet' 'wedjat eye amulet']\n",
      "['Medal' 'medal']\n",
      "['Dish' 'dish']\n",
      "['Candlestick' 'candlestick']\n",
      "['Spoon' 'spoon']\n",
      "['Reliquary; cross' 'reliquary; cross']\n",
      "['Necklace' 'necklace']\n",
      "['Vase' 'vase']\n",
      "['biface' 'Biface']\n",
      "['Tablet' 'tablet']\n",
      "['Drawing' 'drawing']\n",
      "['Dress' 'dress']\n"
     ]
    }
   ],
   "source": [
    "print(\"Ukázka stejných hodnot zapsaných různým způsobem:\\n\")\n",
    "for x in df10:\n",
    "    if x in df11:\n",
    "        iArray = df[df['Object Name'].str.lower()==x]['Object Name'].unique()\n",
    "        if iArray.size > 1:\n",
    "            print(iArray)"
   ]
  },
  {
   "cell_type": "code",
   "execution_count": 9,
   "metadata": {},
   "outputs": [
    {
     "name": "stdout",
     "output_type": "stream",
     "text": [
      "Ukázka hodnot obsahující otazník:\n",
      "\n",
      "['Lamp shade (?)' 'Earring(?)' 'Dish(?)' 'Dance wand hilt (?)'\n",
      " 'Fitting for a chariot (?)' 'Baton handle or penis sheath (?)'\n",
      " 'Reliquary (?)' 'Lid fragment (?)' 'Standing male ruler (?)'\n",
      " 'Ink well (?)']\n"
     ]
    }
   ],
   "source": [
    "print(\"Ukázka hodnot obsahující otazník:\\n\")\n",
    "print(df[df['Object Name'].str.contains('?', regex=False)==True]['Object Name'].unique()[:10])"
   ]
  },
  {
   "cell_type": "code",
   "execution_count": 10,
   "metadata": {},
   "outputs": [
    {
     "name": "stdout",
     "output_type": "stream",
     "text": [
      "Hodnoty obsahující vykřičník:\n",
      "\n",
      "['Head amulet, ram or Hathor ? check date and identification !!']\n"
     ]
    }
   ],
   "source": [
    "print(\"Hodnoty obsahující vykřičník:\\n\")\n",
    "print(df[df['Object Name'].str.contains('!', regex=False)==True]['Object Name'].unique())"
   ]
  },
  {
   "cell_type": "code",
   "execution_count": 11,
   "metadata": {},
   "outputs": [
    {
     "name": "stdout",
     "output_type": "stream",
     "text": [
      "Ukázka hodnot obsahující lomítko:\n",
      "\n",
      "['Blade and mounting for a short sword (<i>Wakizashi</i>)'\n",
      " 'Combined wheellock/matchlock gun' 'Armor (<i>Gusoku</i>)'\n",
      " 'Blade for a double-edged sword (<i>Ken</i>)' 'Stirrup (<i>Wa abumi</i>)'\n",
      " 'Ceremonial spearhead (<i>Tsukushi boko</i>)' 'Surcoat (<i>Jinbaori</i>)'\n",
      " 'Priming flask/spanner' 'Pair of greaves (<i>Suné-até</i>)'\n",
      " 'Cuirass of a <i>Tankō</i>']\n"
     ]
    }
   ],
   "source": [
    "print(\"Ukázka hodnot obsahující lomítko:\\n\")\n",
    "print(df[df['Object Name'].str.contains('/', regex=False)==True]['Object Name'].unique()[:10])"
   ]
  },
  {
   "cell_type": "code",
   "execution_count": 12,
   "metadata": {},
   "outputs": [
    {
     "name": "stdout",
     "output_type": "stream",
     "text": [
      "Hodnoty obsahující plus:\n",
      "\n",
      "['Jar Label,wine, irp, year 31 + 3, year 34']\n"
     ]
    }
   ],
   "source": [
    "print(\"Hodnoty obsahující plus:\\n\")\n",
    "print(df[df['Object Name'].str.contains('+', regex=False)==True]['Object Name'].unique())"
   ]
  },
  {
   "cell_type": "code",
   "execution_count": 13,
   "metadata": {},
   "outputs": [
    {
     "name": "stdout",
     "output_type": "stream",
     "text": [
      "Hodnoty obsahující \\n:\n",
      "\n",
      "['Exterior Doorway from One West Broad Street,\\r\\nSavannah, Georgia'\n",
      " 'Fire Tongs\\r\\n' 'Plate\\r\\n'\n",
      " 'Painting\\r\\nFrigate Presiden\\r\\nFrigate President and\\r\\nH.B.M. Endymion'\n",
      " 'Panel\\r\\n\\r\\n\\r\\n\\r\\n\\r\\n\\r\\n\\r\\n\\r\\n\\r\\nWindow'\n",
      " 'Blade and mounting for a short sword (Wakizashi) \\r\\n'\n",
      " 'Blade and mounting for a Short Sword Wakizashi\\r\\n'\n",
      " 'Jousting armor (<i>Rennzeug</i>) \\r\\nand matching half-shaffron'\n",
      " 'Jousting armor (Rennzeug) \\r\\nand matching half-shaffron'\n",
      " 'Blade and mounting for a spear (Kikuchi-yari) \\r\\n']\n"
     ]
    }
   ],
   "source": [
    "print(\"Hodnoty obsahující \\\\n:\\n\")\n",
    "print(df[df['Object Name'].str.contains('\\n', regex=False)==True]['Object Name'].unique()[:10])"
   ]
  },
  {
   "cell_type": "code",
   "execution_count": 14,
   "metadata": {},
   "outputs": [
    {
     "name": "stdout",
     "output_type": "stream",
     "text": [
      "Nedefinované hodnoty:\n",
      "\n",
      "[nan]\n"
     ]
    }
   ],
   "source": [
    "print (\"Nedefinované hodnoty:\\n\")\n",
    "print(df[df['Object Name'].isnull()==True]['Object Name'].unique())"
   ]
  },
  {
   "cell_type": "markdown",
   "metadata": {},
   "source": [
    "## 2. Kontrola konzistence - příznak \"AccessionYear\"\n",
    " * Tento příznak byl zvolen z toho důvodu, že mnoho lidí zapisuje roky různými způsoby.\n",
    " * Při počátečním vypsání prvních řádků se zdá, že příznak by měl být ve formátu \"YYYY\".\n",
    " * Tuto skutečnost snadno ověříme vypsáním všech unikátních délek tohoto příznaku.\n",
    " * V prvním výstupu si můžeme všimnout délky 4, což je v pořádku, ale také délky 10 a hodnoty NaN. \n",
    " * V dalším výstupu si můžeme všimnout, že příznak obsahuje dvě nekonzistentní hodnoty (ve formátu \"YYYY-MM-DD\" a také NaN hodnoty. Tuto skutečnost bychom mohli snadno opravit. Dvě zmíněné nekonzistentní hodnoty bychom mohli převést do formátu \"YYYY\" a NaN hodnoty nahradit například mediánem (záleží k čemu bychom příznak využívali).  "
   ]
  },
  {
   "cell_type": "code",
   "execution_count": 15,
   "metadata": {},
   "outputs": [
    {
     "name": "stdout",
     "output_type": "stream",
     "text": [
      "Délky hodnot příznaku:\n",
      "\n",
      "[ 4. nan 10.]\n"
     ]
    }
   ],
   "source": [
    "print(\"Délky hodnot příznaku:\\n\")\n",
    "print(df['AccessionYear'].str.len().unique())"
   ]
  },
  {
   "cell_type": "code",
   "execution_count": 16,
   "metadata": {},
   "outputs": [
    {
     "name": "stdout",
     "output_type": "stream",
     "text": [
      "Příznaky v jiném formátu než YYYY:\n",
      "\n",
      "[nan '2005-02-15' '2020-03-23']\n"
     ]
    }
   ],
   "source": [
    "print(\"Příznaky v jiném formátu než YYYY:\\n\")\n",
    "print(df[df['AccessionYear'].str.len() != 4]['AccessionYear'].unique())"
   ]
  },
  {
   "cell_type": "markdown",
   "metadata": {},
   "source": [
    "## 2. Kontrola konzistence - příznak \"Artist Nationality\"\n",
    " * U příznaků začínající slovem Artist si můžeme všimnout, že velmi často se týkají hned několika umělců najednou a obsahují dané informace pro všechny tyto umělce.\n",
    " * Nejprve tedy zkontrolujeme hodnoty, které obsahují informaci pouze pro jednoho umělce. Totéž by pak bylo vhodné udělat pro hodnoty, které se týkají více umělců, postup by však byl stejný (pouze by bylo potřeba navíc rozdělit hodnoty na jednotlivé části), proto tato opakující se fáze nebude provedena.\n",
    " * V prvním výstupu je vypsána nejdelší a nejkratší hodnota příznaku. Už z toho je patrná jistá nekonzistence, jelikož nejdelší hodnota neobsahuje pouze národnost, ale také nějaké doplňující informace.\n",
    " * Na základě předchozího výstupu se dá předpokládat, že množina bude obsahovat klasické jednoslovné hodnoty ale pak také víceslovné hodnoty, které by mohly mít trochu neočekávanější tvar, tak jako v prvním výstupu.\n",
    " * Jednoslovné hodnoty byly nejprve rozděleny na dvě skupiny podle toho, zda obsahují speciální znaky. U hodnot bez speciálních znaků si můžeme všimnout, že jedna národnost je mnohdy zapsána více způsoby (např. 'France', 'French', 'french' 'Paris',). Díky seřazení dokonce vidíme hodnotu, která je zadána s malým písmenem ('French', 'french'). Malá písmena na začátku by asi nebylo těžké opravit, avšak sjednotit různé interpretace jedné národnosti do jedné, by mohlo být dost komplikované.\n",
    " * U jednoslovných hodnot se speciálními znaky si můžeme všimnout některých znaků navíc 'American,', 'American?', 'French(?)'. Některé by šlo odstranit naříklad čárky, nicméně otazník může znamenat hodnotu, která není validní. Tuto informaci by bylo dobré zpracovat.\n",
    " * U víceslovných hodnot si můžeme všimnout klidně 19 různých zápisů pro jednu národnost. Někde je totiž přidána informace o místu narození, aktivním působení, městu nebo třeba době působení. U některých je uvedeno '[search purposes only]' u jiných je zase otazník. Bylo by vhodné vytvořit nový příznak a přidanou informaci od národnosti oddělit a uložit do tohoto nového příznaku.\n",
    " * Stejný postup je pak potřeba aplikovat na hodnoty příznaků, které obsahují informace o více umělcích. Stojí za zmínku, že tento způsob ukládání, kdy do jednoho příznaku uložíme N různých hodnot, není moc vhodný. Bylo by lepší rozdělit příznaky na atomické hodnoty. To ale není součástí tohoto úkolu."
   ]
  },
  {
   "cell_type": "code",
   "execution_count": 17,
   "metadata": {},
   "outputs": [
    {
     "name": "stdout",
     "output_type": "stream",
     "text": [
      "Nejkratší hodnota: Iran\n",
      "Nejdelší hodnota: German-born sculptor later active in Switzerland\n"
     ]
    }
   ],
   "source": [
    "subSet = df[df['Artist Nationality'].str.contains('|', regex=False)==False]['Artist Nationality'].unique()\n",
    "print (\"Nejkratší hodnota: \" + reduce(lambda x, y: x if len(x) < len(y) else y, subSet))\n",
    "print (\"Nejdelší hodnota: \" + reduce(lambda x, y: x if len(x) > len(y) else y, subSet))"
   ]
  },
  {
   "cell_type": "code",
   "execution_count": 18,
   "metadata": {},
   "outputs": [
    {
     "name": "stdout",
     "output_type": "stream",
     "text": [
      "Počet jednoslovných hodnot: 158\n",
      "Počet víceslovných hodnot: 262\n"
     ]
    }
   ],
   "source": [
    "print (\"Počet jednoslovných hodnot: \" + str(reduce(lambda x, y: x + (1 if ' ' not in y else 0), subSet, 0)))\n",
    "print (\"Počet víceslovných hodnot: \" + str(reduce(lambda x, y: x + (1 if ' ' in y else 0), subSet, 0)))\n",
    "simpleSubSet = list(filter(lambda x: ' ' not in x, subSet))\n",
    "complexSubSet = list(filter(lambda x: ' ' in x, subSet))"
   ]
  },
  {
   "cell_type": "code",
   "execution_count": 19,
   "metadata": {},
   "outputs": [
    {
     "name": "stdout",
     "output_type": "stream",
     "text": [
      "Jednoslovné hodnoty bez speciálních znaků:\n"
     ]
    },
    {
     "data": {
      "text/plain": [
       "['Aachen',\n",
       " 'Africa',\n",
       " 'Albanian',\n",
       " 'Alsatian',\n",
       " 'American',\n",
       " 'Argentinian',\n",
       " 'Armenian',\n",
       " 'Asmat',\n",
       " 'Australian',\n",
       " 'Austrian',\n",
       " 'Belgian',\n",
       " 'Belgium',\n",
       " 'Bohemian',\n",
       " 'Brazilian',\n",
       " 'British',\n",
       " 'Bulgarian',\n",
       " 'Burgundian',\n",
       " 'Byzantine',\n",
       " 'Cameroon',\n",
       " 'Cameroonian',\n",
       " 'Canadian',\n",
       " 'Chilean',\n",
       " 'Chinese',\n",
       " 'Colombian',\n",
       " 'Congo',\n",
       " 'Continental',\n",
       " 'Croatian',\n",
       " 'Cuban',\n",
       " 'Czech',\n",
       " 'Czechoslovakian',\n",
       " 'Danish',\n",
       " 'Dominican',\n",
       " 'Dutch',\n",
       " 'Ecuadorian',\n",
       " 'Egyptian',\n",
       " 'Emilian',\n",
       " 'English',\n",
       " 'European',\n",
       " 'Fench',\n",
       " 'Finish',\n",
       " 'Finnish',\n",
       " 'Flemish',\n",
       " 'Florence',\n",
       " 'France',\n",
       " 'French',\n",
       " 'Gabon',\n",
       " 'Geman',\n",
       " 'Georgian',\n",
       " 'German',\n",
       " 'Germany',\n",
       " 'Ghanaian',\n",
       " 'Greek',\n",
       " 'Greenlandish',\n",
       " 'Guatemalan',\n",
       " 'Haida',\n",
       " 'Hungarian',\n",
       " 'Icelandic',\n",
       " 'Indian',\n",
       " 'Inuit',\n",
       " 'Iran',\n",
       " 'Iranian',\n",
       " 'Irish',\n",
       " 'Islamic',\n",
       " 'Israeli',\n",
       " 'Italian',\n",
       " 'Italy',\n",
       " 'Japan',\n",
       " 'Japanese',\n",
       " 'Kashmir',\n",
       " 'Khitan',\n",
       " 'Korean',\n",
       " 'Kuwaiti',\n",
       " 'Lebanese',\n",
       " 'Lithuanian',\n",
       " 'Lombard',\n",
       " 'London',\n",
       " 'Malaysian',\n",
       " 'Malian',\n",
       " 'Maltese',\n",
       " 'Manchu',\n",
       " 'Manufacturer',\n",
       " 'Mexican',\n",
       " 'Mongolian',\n",
       " 'Naples',\n",
       " 'Netherlandish',\n",
       " 'Nethrlandish',\n",
       " 'Nigeria',\n",
       " 'Nigerian',\n",
       " 'Norway',\n",
       " 'Norwegian',\n",
       " 'Ottoman',\n",
       " 'Pakistani',\n",
       " 'Panamanian',\n",
       " 'Paris',\n",
       " 'Persian',\n",
       " 'Peruvian',\n",
       " 'Polish',\n",
       " 'Portuguese',\n",
       " 'Roman',\n",
       " 'Romanian',\n",
       " 'Rumanian',\n",
       " 'Russian',\n",
       " 'Samoan',\n",
       " 'Scandinavian',\n",
       " 'Scottish',\n",
       " 'Siena',\n",
       " 'Sienese',\n",
       " 'Slovakian',\n",
       " 'Spanish',\n",
       " 'Swedish',\n",
       " 'Swiss',\n",
       " 'Taiwanese',\n",
       " 'Tajikistan',\n",
       " 'Tibetan',\n",
       " 'Turkish',\n",
       " 'Tuscany',\n",
       " 'Uganda',\n",
       " 'Ukrainian',\n",
       " 'Ukranian',\n",
       " 'Uruguayan',\n",
       " 'Venetian',\n",
       " 'Venezuelan',\n",
       " 'Veronese',\n",
       " 'Yugoslavian',\n",
       " 'french']"
      ]
     },
     "execution_count": 19,
     "metadata": {},
     "output_type": "execute_result"
    }
   ],
   "source": [
    "print(\"Jednoslovné hodnoty bez speciálních znaků:\")\n",
    "sorted(list(filter(lambda x: x.isalpha(), simpleSubSet)))"
   ]
  },
  {
   "cell_type": "code",
   "execution_count": 20,
   "metadata": {},
   "outputs": [
    {
     "name": "stdout",
     "output_type": "stream",
     "text": [
      "Jednoslovné hodnoty se speciálními znaky:\n"
     ]
    },
    {
     "data": {
      "text/plain": [
       "['American,',\n",
       " 'American?',\n",
       " 'Argentinian?',\n",
       " 'Armenian-Iranian',\n",
       " 'Austrian/German',\n",
       " 'Austrian?',\n",
       " 'Austro-Hungarian',\n",
       " 'Belgian?',\n",
       " 'British/Irish',\n",
       " 'British?',\n",
       " 'Continental/Swiss',\n",
       " 'Danish-Icelandic',\n",
       " 'Dutch?',\n",
       " 'Egyptian?',\n",
       " 'Flemish?',\n",
       " 'Franco-American',\n",
       " 'Franco-Flemish',\n",
       " 'Franco-Netherlandish',\n",
       " 'French(?)',\n",
       " 'French/Flemish',\n",
       " 'French?',\n",
       " 'German/Solingen',\n",
       " 'German?',\n",
       " 'Iranian-American',\n",
       " 'Italian?',\n",
       " 'Mexican?',\n",
       " 'Netherlandish/French',\n",
       " 'Netherlandish?',\n",
       " 'Nigeria/Cameroon',\n",
       " 'Polish?',\n",
       " 'Serbo-croat',\n",
       " 'Spanish?',\n",
       " 'Swiss?']"
      ]
     },
     "execution_count": 20,
     "metadata": {},
     "output_type": "execute_result"
    }
   ],
   "source": [
    "print(\"Jednoslovné hodnoty se speciálními znaky:\")\n",
    "sorted(list(filter(lambda x: not x.isalpha(), simpleSubSet)))"
   ]
  },
  {
   "cell_type": "code",
   "execution_count": 21,
   "metadata": {},
   "outputs": [
    {
     "name": "stdout",
     "output_type": "stream",
     "text": [
      "Víceslovné hodnoty:\n"
     ]
    },
    {
     "data": {
      "text/plain": [
       "['Algonquin family',\n",
       " 'American ',\n",
       " 'American (born Dominican Republic)',\n",
       " 'American (born Iran)',\n",
       " 'American (born Russia)',\n",
       " 'American (born Turkey)',\n",
       " 'American German',\n",
       " 'American and British, born Mexico',\n",
       " 'American and Canadian',\n",
       " 'American and French',\n",
       " 'American born Britain',\n",
       " 'American, German',\n",
       " 'American, Scottish',\n",
       " 'American, born Albania',\n",
       " 'American, born Alsace',\n",
       " 'American, born Alsace-Lorraine',\n",
       " 'American, born Argentina',\n",
       " 'American, born Armenia',\n",
       " 'American, born Australia',\n",
       " 'American, born Austria',\n",
       " 'American, born Austria-Hungary',\n",
       " 'American, born Belgium',\n",
       " 'American, born Britain',\n",
       " 'American, born Bulgaria',\n",
       " 'American, born Canada',\n",
       " 'American, born China',\n",
       " 'American, born Cuba',\n",
       " 'American, born Czech Republic',\n",
       " 'American, born Denmark',\n",
       " 'American, born Dominican Republic',\n",
       " 'American, born Egypt',\n",
       " 'American, born England',\n",
       " 'American, born Federal Republic of Germany',\n",
       " 'American, born Finland',\n",
       " 'American, born France',\n",
       " 'American, born Germany',\n",
       " 'American, born Greece',\n",
       " 'American, born Haiti',\n",
       " 'American, born Holland',\n",
       " 'American, born Hungary',\n",
       " 'American, born India',\n",
       " 'American, born Iran',\n",
       " 'American, born Ireland',\n",
       " 'American, born Israel',\n",
       " 'American, born Italy',\n",
       " 'American, born Japan',\n",
       " 'American, born Korea',\n",
       " 'American, born Latvia',\n",
       " 'American, born Lithuania',\n",
       " 'American, born Luxembourg',\n",
       " 'American, born Malawi',\n",
       " 'American, born Mexico',\n",
       " 'American, born Moravia',\n",
       " 'American, born Morocco',\n",
       " 'American, born Norway',\n",
       " 'American, born Panama',\n",
       " 'American, born Philippines',\n",
       " 'American, born Poland',\n",
       " 'American, born Prussia',\n",
       " 'American, born Puerto Rico',\n",
       " 'American, born Romania',\n",
       " 'American, born Russia',\n",
       " 'American, born Slovakia',\n",
       " 'American, born South Africa',\n",
       " 'American, born Spain',\n",
       " 'American, born Sweden',\n",
       " 'American, born Switzerland',\n",
       " 'American, born The Netherlands',\n",
       " 'American, born Tunisia',\n",
       " 'American, born Turkey',\n",
       " 'American, born USSR',\n",
       " 'American, born Ukraine',\n",
       " 'American, born Ukraine (Austria)',\n",
       " 'American, born Uruguay',\n",
       " 'American, born Vietnam',\n",
       " 'American, born Wales',\n",
       " 'Antelope Valley Washoe',\n",
       " 'Argentinian, born Germany',\n",
       " 'Australian, born India',\n",
       " 'Austrian or German',\n",
       " 'Austrian, active Italy',\n",
       " 'Austrian, born Germany',\n",
       " 'Belgian, active France',\n",
       " 'Brabant (Diest or Leuven?)',\n",
       " 'Brazilian, born Spain',\n",
       " 'Bremen, Germany',\n",
       " 'British American',\n",
       " 'British or American',\n",
       " 'British, American (naturalized)',\n",
       " 'British, French',\n",
       " 'British, Scottish',\n",
       " 'British, Scottish, American',\n",
       " 'British, Welsh',\n",
       " 'British, active France',\n",
       " 'British, active Philadelphia',\n",
       " 'British, born Argentina',\n",
       " 'British, born Austria',\n",
       " 'British, born Austria-Hungary',\n",
       " 'British, born Belgium',\n",
       " 'British, born Canada',\n",
       " 'British, born China',\n",
       " 'British, born Cuba',\n",
       " 'British, born France',\n",
       " 'British, born Germany',\n",
       " 'British, born Holland',\n",
       " 'British, born India',\n",
       " 'British, born Italy',\n",
       " 'British, born New Zealand',\n",
       " 'British, born Nigeria',\n",
       " 'British, born Poland',\n",
       " 'British, born Scotland',\n",
       " 'British, born Sweden',\n",
       " 'British, born Taiwan',\n",
       " 'British, born The Netherlands',\n",
       " 'British, born United States',\n",
       " 'Canadian, born Armenia',\n",
       " 'Canadian, born Scotland',\n",
       " 'Central European',\n",
       " 'Central European or French',\n",
       " 'Chiricahua Apache Native American',\n",
       " 'Congo, Africa',\n",
       " 'Costa Rican',\n",
       " 'Dem. Republic of the Congo',\n",
       " 'Democratic Republic of Congo',\n",
       " 'Dutch (born Germany)',\n",
       " 'Dutch, British',\n",
       " 'Dutch, born Germany',\n",
       " 'Flemish, active The Netherlands',\n",
       " 'French (Amiens)',\n",
       " 'French (Paris)',\n",
       " 'French 1866–1932',\n",
       " 'French ?',\n",
       " 'French American',\n",
       " 'French Dutch',\n",
       " 'French Italian',\n",
       " 'French and Canadian',\n",
       " 'French and English',\n",
       " 'French or American',\n",
       " 'French or Dutch',\n",
       " 'French or Italian',\n",
       " 'French, Austrian or German',\n",
       " 'French, British, American',\n",
       " 'French, Limoges',\n",
       " 'French, active 1860s – early 1870s',\n",
       " 'French, active America',\n",
       " 'French, active Great Britain',\n",
       " 'French, born Algiers?',\n",
       " 'French, born Austria',\n",
       " 'French, born Belgium',\n",
       " 'French, born China',\n",
       " 'French, born Egypt',\n",
       " 'French, born England',\n",
       " 'French, born Germany',\n",
       " 'French, born Hungary',\n",
       " 'French, born Italy',\n",
       " 'French, born Japan',\n",
       " 'French, born Lithuania',\n",
       " 'French, born Middle East',\n",
       " 'French, born Morocco',\n",
       " 'French, born Poland',\n",
       " 'French, born Prussia',\n",
       " 'French, born Romania',\n",
       " 'French, born Romania (Transylvania)',\n",
       " 'French, born Russia',\n",
       " 'French, born Spain',\n",
       " 'French, born Sweden',\n",
       " 'French, born Switzerland',\n",
       " 'French, born West Indies',\n",
       " 'French, born in Italy',\n",
       " 'German (?)',\n",
       " 'German (Innsbruck)',\n",
       " 'German (Nuremberg)',\n",
       " 'German (Prussian)',\n",
       " 'German (Solingen)',\n",
       " 'German (Stuttgart)',\n",
       " 'German (Stuttgart, principality of Württemberg)',\n",
       " 'German (active Italy)',\n",
       " 'German (born Westheim)',\n",
       " 'German American',\n",
       " 'German, Augsburg',\n",
       " 'German, active England',\n",
       " 'German, active Ireland',\n",
       " 'German, active London',\n",
       " 'German, active Switzerland',\n",
       " 'German, active United States',\n",
       " 'German, born Belgian',\n",
       " 'German, born Poland',\n",
       " 'German, born Switzerland',\n",
       " 'German-born sculptor later active in Switzerland',\n",
       " 'Germany, Middle Rhine',\n",
       " 'Germany, active London',\n",
       " 'Greek, active Turkey',\n",
       " 'Guatemalan or Mexican',\n",
       " 'Hannover, Germany',\n",
       " 'Hanoverian (German)',\n",
       " 'Iraqi Kurdish',\n",
       " 'Irish, born Wales',\n",
       " 'Israeli, born Palestine',\n",
       " 'Israeli, born Romania',\n",
       " 'Italian ',\n",
       " 'Italian (Naples)',\n",
       " 'Italian (Turin)',\n",
       " 'Italian (active France)',\n",
       " 'Italian [search purposes only]',\n",
       " 'Italian or Spanish',\n",
       " 'Italian or Spanish, 17th century',\n",
       " 'Italian, Bolognese',\n",
       " 'Italian, Brescia',\n",
       " 'Italian, Florentine',\n",
       " 'Italian, Lombard (probably Pavia)',\n",
       " 'Italian, Rome',\n",
       " 'Italian, active Marches',\n",
       " 'Italian, born Argentina',\n",
       " 'Italian, born Austria',\n",
       " 'Italian, born Croatia',\n",
       " 'Italian, born Georgia',\n",
       " 'Italian, born Germany',\n",
       " 'Italian, born Greece',\n",
       " 'Japanese American',\n",
       " 'Japanese, 1898–1992',\n",
       " 'Japanese, active China',\n",
       " 'Japanese, born 1941',\n",
       " 'Mexican American',\n",
       " 'Mexican or Spanish',\n",
       " 'Mexican, born England',\n",
       " 'Mexican, born Germany',\n",
       " 'Mexican, born United States',\n",
       " 'Native American',\n",
       " 'Netherlandish / French',\n",
       " 'Netherlandish or German',\n",
       " 'New Zealander',\n",
       " 'North Netherlandish',\n",
       " 'Northern European',\n",
       " 'Paris and London',\n",
       " 'Polish or German?',\n",
       " 'Polish, Cieszyn (Silesian)',\n",
       " 'Puerto Rican',\n",
       " 'Russian (born Finland)',\n",
       " 'Russian, born Germany',\n",
       " 'Russian, born Italy',\n",
       " 'Russian, born Romania',\n",
       " 'Saint Lucian',\n",
       " 'Sierra Leone, Africa',\n",
       " 'South Africa',\n",
       " 'South African',\n",
       " 'South Netherlandish',\n",
       " 'Southern Germany or Austria',\n",
       " 'Southern Italy',\n",
       " 'Southern Netherlands',\n",
       " 'Southern Netherlands, Ghent (?)',\n",
       " 'Spanish (?)',\n",
       " 'Spanish (Andalusian)',\n",
       " 'Swedish, born Austria',\n",
       " 'Swiss or Austrian',\n",
       " 'Swiss, born Germany',\n",
       " 'U.S. (Boston)',\n",
       " 'United States',\n",
       " 'Upper Rhine',\n",
       " 'West Coast Africa',\n",
       " 'possibly French',\n",
       " 'possibly Iranian',\n",
       " 'probably Swiss']"
      ]
     },
     "execution_count": 21,
     "metadata": {},
     "output_type": "execute_result"
    }
   ],
   "source": [
    "print(\"Víceslovné hodnoty:\")\n",
    "sorted(complexSubSet)"
   ]
  },
  {
   "cell_type": "markdown",
   "metadata": {},
   "source": [
    "## 3. Kontrola integrity\n",
    " * Při kontrole integrity dat je třeba sledovat skupiny příznaků, které mezi sebou mají nějaký vztah. Při pohledu na všechny příznaky si můžeme všimnout, že určité příznaky patří do jisté podskupiny (např. ohledně kultury, umělce, data objektu nebo regionu). Na tyto skupiny příznaků a vztahy mezi jednotlivými příznaky v těchto skupinách je třeba se zaměřit. "
   ]
  },
  {
   "cell_type": "markdown",
   "metadata": {},
   "source": [
    "### Kultura\n",
    " * Máme zde příznaky Culture, Period, Dynasty, Reign. \n",
    " * Problém může nastat v případě, že jedna dynastie bude vládnout ve dvou různých kulturách. Stejně tak jedna vláda by neměla být ve dvou různých kulturách. U ostatních dvojic či n-tic se integritní omezení vytváří příliš složitě.\n",
    " * Zde z výstupů vidíme, že je integrita v pořádku."
   ]
  },
  {
   "cell_type": "code",
   "execution_count": 22,
   "metadata": {},
   "outputs": [],
   "source": [
    "def checkIntegritySub(column1, column2, name1, name2):\n",
    "    print (\"Kontrola integry \" + name1 + \" a \" + name2 + \":\")\n",
    "    find = False\n",
    "    table = df[[column1, column2]].dropna(axis = 0, how = 'any')\n",
    "    for item in table[column2].unique():\n",
    "        iArray = table[table[column2]==item][column1].unique()\n",
    "        if iArray.size > 1 :\n",
    "            find = True\n",
    "            print (\"\\n\" + column2 + \" with value \" + item  +\"in: \\n\")\n",
    "            print (iArray)\n",
    "    if not find :\n",
    "        print (\"Integrita je v pořádku.\")"
   ]
  },
  {
   "cell_type": "code",
   "execution_count": 23,
   "metadata": {},
   "outputs": [
    {
     "name": "stdout",
     "output_type": "stream",
     "text": [
      "Kontrola integry kultury a dynastie:\n",
      "Integrita je v pořádku.\n",
      "Kontrola integry kultury a vlády:\n",
      "Integrita je v pořádku.\n"
     ]
    }
   ],
   "source": [
    "checkIntegritySub('Culture', 'Dynasty', 'kultury', 'dynastie')\n",
    "checkIntegritySub('Culture', 'Reign', 'kultury', 'vlády')"
   ]
  },
  {
   "cell_type": "markdown",
   "metadata": {},
   "source": [
    "### Umělec\n",
    " * Příznaky týkající se umělce jsou 'Artist Role', 'Artist Prefix', 'Artist Display Name', 'Artist Display Bio', 'Artist Suffix', 'Artist Alpha Sort', 'Artist Nationality', 'Artist Begin Date', 'Artist End Date', 'Artist Gender', 'Artist ULAN URL', 'Artist Wikidata URL'.\n",
    " * Jeden ze vztahů můžeme nalézt mezi 'Artist Begin Date' a 'Artist End Date', kde bychom měli zkontrolovat, zda 'Artist Begin Date' je vždy před 'Artist End Date' a ne naopak. Zde si můžeme všimnout, že integrita dat není v pořádku a několik málo hodnot příznaků 'Artist End Date' je větších než 'Artist End Date'.\n",
    " * Druhý ze vztahů je mezi 'Artist Display Name' a 'Artist Gender', kde se očekává, že mužské pohlaví nebude spojeno se ženským jménem a naopak. Můžeme si všimnout, zde máme velké množství mužských jmen spojených z ženským pohlavím. Obráceně nejsme schopni ženská jména u mužů určit, jelikož  v tabulce není v 'Artist Gender' uloženo žádné mužské pohlaví.\n",
    " * Další věc, která očividně porušuje integritu dat, i přestože není samotný příznak, je počet umělců na jednotlivých řádcích. V každém příznaku by měl být na stejném řádku stejný počet oddělovačů '|'. Hned při kontrole Artist Begin Date a Artist End Date si můžeme všimnout, že v tomto smyslu nebudou hodnoty úplně v pořádku. Je tedy otázkou, zda předchozí výsledky nejsou touto skutečností ovlivněny (s největší pravděpodobností ano)."
   ]
  },
  {
   "cell_type": "code",
   "execution_count": 24,
   "metadata": {},
   "outputs": [
    {
     "data": {
      "text/html": [
       "<div>\n",
       "<style scoped>\n",
       "    .dataframe tbody tr th:only-of-type {\n",
       "        vertical-align: middle;\n",
       "    }\n",
       "\n",
       "    .dataframe tbody tr th {\n",
       "        vertical-align: top;\n",
       "    }\n",
       "\n",
       "    .dataframe thead th {\n",
       "        text-align: right;\n",
       "    }\n",
       "</style>\n",
       "<table border=\"1\" class=\"dataframe\">\n",
       "  <thead>\n",
       "    <tr style=\"text-align: right;\">\n",
       "      <th></th>\n",
       "      <th>Artist Begin Date</th>\n",
       "      <th>Artist End Date</th>\n",
       "    </tr>\n",
       "  </thead>\n",
       "  <tbody>\n",
       "    <tr>\n",
       "      <th>11174</th>\n",
       "      <td>1856</td>\n",
       "      <td>1508      |1925</td>\n",
       "    </tr>\n",
       "    <tr>\n",
       "      <th>16513</th>\n",
       "      <td>1880      |1848</td>\n",
       "      <td>1880</td>\n",
       "    </tr>\n",
       "    <tr>\n",
       "      <th>16586</th>\n",
       "      <td>1909      |1877</td>\n",
       "      <td>1909</td>\n",
       "    </tr>\n",
       "    <tr>\n",
       "      <th>16653</th>\n",
       "      <td>1880      |1848</td>\n",
       "      <td>1880</td>\n",
       "    </tr>\n",
       "    <tr>\n",
       "      <th>110234</th>\n",
       "      <td>1874</td>\n",
       "      <td>1797</td>\n",
       "    </tr>\n",
       "    <tr>\n",
       "      <th>112455</th>\n",
       "      <td>1582</td>\n",
       "      <td>1562</td>\n",
       "    </tr>\n",
       "    <tr>\n",
       "      <th>206676</th>\n",
       "      <td>1492</td>\n",
       "      <td>0094</td>\n",
       "    </tr>\n",
       "    <tr>\n",
       "      <th>210275</th>\n",
       "      <td>1800      |1514</td>\n",
       "      <td>1534</td>\n",
       "    </tr>\n",
       "    <tr>\n",
       "      <th>223854</th>\n",
       "      <td>1615</td>\n",
       "      <td>1538</td>\n",
       "    </tr>\n",
       "    <tr>\n",
       "      <th>310081</th>\n",
       "      <td>1561</td>\n",
       "      <td>1502</td>\n",
       "    </tr>\n",
       "    <tr>\n",
       "      <th>382466</th>\n",
       "      <td>1974      |1913</td>\n",
       "      <td>1954</td>\n",
       "    </tr>\n",
       "    <tr>\n",
       "      <th>395915</th>\n",
       "      <td>1615      |1500</td>\n",
       "      <td>1538      |1550</td>\n",
       "    </tr>\n",
       "    <tr>\n",
       "      <th>395916</th>\n",
       "      <td>1615      |1500</td>\n",
       "      <td>1538      |1550</td>\n",
       "    </tr>\n",
       "    <tr>\n",
       "      <th>395963</th>\n",
       "      <td>1615      |1500</td>\n",
       "      <td>1538      |1550</td>\n",
       "    </tr>\n",
       "    <tr>\n",
       "      <th>395964</th>\n",
       "      <td>1615      |1500</td>\n",
       "      <td>1538      |1550</td>\n",
       "    </tr>\n",
       "    <tr>\n",
       "      <th>395965</th>\n",
       "      <td>1615      |1500</td>\n",
       "      <td>1538      |1550</td>\n",
       "    </tr>\n",
       "    <tr>\n",
       "      <th>395966</th>\n",
       "      <td>1615      |1500</td>\n",
       "      <td>1538      |1550</td>\n",
       "    </tr>\n",
       "    <tr>\n",
       "      <th>395967</th>\n",
       "      <td>1615      |1500</td>\n",
       "      <td>1538      |1550</td>\n",
       "    </tr>\n",
       "    <tr>\n",
       "      <th>395968</th>\n",
       "      <td>1615      |1500</td>\n",
       "      <td>1538      |1550</td>\n",
       "    </tr>\n",
       "    <tr>\n",
       "      <th>395969</th>\n",
       "      <td>1615      |1500</td>\n",
       "      <td>1538      |1550</td>\n",
       "    </tr>\n",
       "    <tr>\n",
       "      <th>410385</th>\n",
       "      <td>0019      |0019      |1771      |1460      |17...</td>\n",
       "      <td>0019      |0019      |1524      |1774      |18...</td>\n",
       "    </tr>\n",
       "    <tr>\n",
       "      <th>410392</th>\n",
       "      <td>1771      |1460      |1605      |1769      |17...</td>\n",
       "      <td>1524      |1689      |1859      |1900      |00...</td>\n",
       "    </tr>\n",
       "    <tr>\n",
       "      <th>450957</th>\n",
       "      <td>1938-05-20|1500      |1673</td>\n",
       "      <td>1600      |1745</td>\n",
       "    </tr>\n",
       "  </tbody>\n",
       "</table>\n",
       "</div>"
      ],
      "text/plain": [
       "                                        Artist Begin Date  \\\n",
       "11174                                          1856         \n",
       "16513                               1880      |1848         \n",
       "16586                               1909      |1877         \n",
       "16653                               1880      |1848         \n",
       "110234                                         1874         \n",
       "112455                                         1582         \n",
       "206676                                         1492         \n",
       "210275                              1800      |1514         \n",
       "223854                                         1615         \n",
       "310081                                         1561         \n",
       "382466                              1974      |1913         \n",
       "395915                              1615      |1500         \n",
       "395916                              1615      |1500         \n",
       "395963                              1615      |1500         \n",
       "395964                              1615      |1500         \n",
       "395965                              1615      |1500         \n",
       "395966                              1615      |1500         \n",
       "395967                              1615      |1500         \n",
       "395968                              1615      |1500         \n",
       "395969                              1615      |1500         \n",
       "410385  0019      |0019      |1771      |1460      |17...   \n",
       "410392  1771      |1460      |1605      |1769      |17...   \n",
       "450957                   1938-05-20|1500      |1673         \n",
       "\n",
       "                                          Artist End Date  \n",
       "11174                               1508      |1925        \n",
       "16513                                          1880        \n",
       "16586                                          1909        \n",
       "16653                                          1880        \n",
       "110234                                         1797        \n",
       "112455                                         1562        \n",
       "206676                                         0094        \n",
       "210275                                         1534        \n",
       "223854                                         1538        \n",
       "310081                                         1502        \n",
       "382466                                         1954        \n",
       "395915                              1538      |1550        \n",
       "395916                              1538      |1550        \n",
       "395963                              1538      |1550        \n",
       "395964                              1538      |1550        \n",
       "395965                              1538      |1550        \n",
       "395966                              1538      |1550        \n",
       "395967                              1538      |1550        \n",
       "395968                              1538      |1550        \n",
       "395969                              1538      |1550        \n",
       "410385  0019      |0019      |1524      |1774      |18...  \n",
       "410392  1524      |1689      |1859      |1900      |00...  \n",
       "450957                              1600      |1745        "
      ]
     },
     "execution_count": 24,
     "metadata": {},
     "output_type": "execute_result"
    }
   ],
   "source": [
    "beginEndTable = df[['Artist Begin Date', 'Artist End Date']].dropna(axis = 0, how = 'any')\n",
    "subResultTable = beginEndTable[beginEndTable['Artist Begin Date'] > beginEndTable['Artist End Date']]\n",
    "subResultTable = subResultTable[subResultTable['Artist Begin Date'].str.startswith( '-' )==False]\n",
    "subResultTable[subResultTable['Artist Begin Date'].str.contains('|-', regex=False )==False]"
   ]
  },
  {
   "cell_type": "code",
   "execution_count": 25,
   "metadata": {},
   "outputs": [],
   "source": [
    "nameGenderTable = df[['Artist Display Name', 'Artist Gender']].dropna(axis = 0, how = 'any')"
   ]
  },
  {
   "cell_type": "code",
   "execution_count": 26,
   "metadata": {},
   "outputs": [],
   "source": [
    "import urllib\n",
    "import json"
   ]
  },
  {
   "cell_type": "code",
   "execution_count": 27,
   "metadata": {},
   "outputs": [
    {
     "name": "stdout",
     "output_type": "stream",
     "text": [
      "Nalezeno mužské jméno Emmer!\n",
      "Nalezeno mužské jméno Clyde!\n",
      "Nalezeno mužské jméno Michal!\n",
      "Nalezeno mužské jméno Alois!\n",
      "Nalezeno mužské jméno Isidore!\n",
      "Nalezeno mužské jméno Akwete!\n",
      "Nalezeno mužské jméno Dove!\n",
      "Nalezeno mužské jméno Avis!\n",
      "Nalezeno mužské jméno Sakurai!\n",
      "Nalezeno mužské jméno Altoon!\n",
      "Nalezeno mužské jméno Tomma!\n",
      "Nalezeno mužské jméno Salle!\n",
      "Nalezeno mužské jméno Coille!\n",
      "Nalezeno mužské jméno Lee!\n",
      "Nalezeno mužské jméno Adrian!\n",
      "Nalezeno mužské jméno René!\n",
      "Nalezeno mužské jméno Kiff!\n",
      "Nalezeno mužské jméno Joan!\n",
      "Nalezeno mužské jméno widow!\n",
      "Nalezeno mužské jméno Monir!\n",
      "Nalezeno mužské jméno Kishi!\n",
      "Nalezeno mužské jméno Kakulu!\n",
      "Nalezeno mužské jméno Dominique!\n",
      "Nalezeno mužské jméno Fontana!\n",
      "Nalezeno mužské jméno Elie!\n",
      "Nalezeno mužské jméno Pele!\n",
      "Nalezeno mužské jméno Shigeyuki!\n",
      "Nalezeno mužské jméno Sascha!\n",
      "Nalezeno mužské jméno Riva!\n",
      "Nalezeno mužské jméno Willie!\n",
      "Nalezeno mužské jméno Chris!\n",
      "Nalezeno mužské jméno Kay!\n",
      "Nalezeno mužské jméno Michele!\n",
      "Nalezeno mužské jméno Maio!\n",
      "Nalezeno mužské jméno Adair!\n",
      "Nalezeno mužské jméno Andrea!\n",
      "Nalezeno mužské jméno Gay!\n",
      "Nalezeno mužské jméno Herter!\n",
      "Nalezeno mužské jméno Jungjin!\n",
      "Nalezeno mužské jméno Gene!\n",
      "Nalezeno mužské jméno Marian!\n",
      "Nalezeno mužské jméno Jolan!\n",
      "Nalezeno mužské jméno Olive!\n",
      "Nalezeno mužské jméno Kitamura!\n",
      "Nalezeno mužské jméno Chun!\n",
      "Nalezeno mužské jméno Jaune!\n",
      "Nalezeno mužské jméno Kiyohara!\n",
      "Nalezeno mužské jméno Ike!\n",
      "Nalezeno mužské jméno Loren!\n",
      "Nalezeno mužské jméno Jean!\n",
      "Nalezeno mužské jméno Shinoda!\n",
      "Nalezeno mužské jméno Koike!\n",
      "Nalezeno mužské jméno Ray!\n",
      "Nalezeno mužské jméno Pat!\n",
      "Nalezeno mužské jméno Carey!\n",
      "Nalezeno mužské jméno Ciel!\n",
      "Nalezeno mužské jméno Mad!\n",
      "Nalezeno mužské jméno Scott!\n",
      "Nalezeno mužské jméno Tremain!\n",
      "Nalezeno mužské jméno Ono!\n",
      "Nalezeno mužské jméno Gabriele!\n",
      "Nalezeno mužské jméno As!\n",
      "Nalezeno mužské jméno Petah!\n",
      "Nalezeno mužské jméno Xing!\n",
      "Nalezeno mužské jméno Kara!\n",
      "Nalezeno mužské jméno Jan!\n",
      "Nalezeno mužské jméno Lutz!\n",
      "Nalezeno mužské jméno Katsumata!\n",
      "Nalezeno mužské jméno Professor!\n",
      "Nalezeno mužské jméno Preen!\n",
      "Nalezeno mužské jméno Ishiuchi!\n",
      "Nalezeno mužské jméno George!\n",
      "Nalezeno mužské jméno Abie!\n",
      "Nalezeno mužské jméno Merrill!\n",
      "Nalezeno mužské jméno Mao!\n",
      "Nalezeno mužské jméno Jo!\n",
      "Nalezeno mužské jméno Rouff!\n",
      "Nalezeno mužské jméno Yto!\n",
      "Nalezeno mužské jméno Hoshino!\n",
      "Nalezeno mužské jméno Ogawa!\n",
      "Nalezeno mužské jméno Squeak!\n",
      "Nalezeno mužské jméno Ronnie!\n",
      "Nalezeno mužské jméno Fukumoto!\n",
      "Nalezeno mužské jméno Alex!\n",
      "Nalezeno mužské jméno Mika!\n",
      "Nalezeno mužské jméno Victory!\n"
     ]
    }
   ],
   "source": [
    "names = set([item.split()[0] for item in nameGenderTable[nameGenderTable['Artist Gender']==('Female')]['Artist Display Name'].unique()])\n",
    "for name in names:\n",
    "    url = \"https://api.genderize.io/?name=\" + urllib.parse.quote(name)\n",
    "    response = urllib.request.urlopen(url)\n",
    "    data = json.loads(response.read())\n",
    "    if data['gender'] == \"male\" :\n",
    "        print(\"Nalezeno mužské jméno \" + name + \"!\")"
   ]
  },
  {
   "cell_type": "markdown",
   "metadata": {},
   "source": [
    "### Datum objektu\n",
    " * Jsou zde příznaky 'Object Date', 'Object Begin Date', 'Object End Date'.\n",
    " * Příznak Object Date neobsahuje příliš konzistentní data, tudíž ho pro kontrolu integrity není moc vhodné použít. Naopak příznaky 'Object Begin Date' a 'Object End Date' májí mezi sebou vztah, že 'Object Begin Date'  musí být menší než 'Object End Date', jinak by dohromady nedávaly smysl (podobně jako u umělce). Zde vidíme, že 188 řádků tuto vlastnost nesplňuje. "
   ]
  },
  {
   "cell_type": "code",
   "execution_count": 28,
   "metadata": {},
   "outputs": [
    {
     "data": {
      "text/html": [
       "<div>\n",
       "<style scoped>\n",
       "    .dataframe tbody tr th:only-of-type {\n",
       "        vertical-align: middle;\n",
       "    }\n",
       "\n",
       "    .dataframe tbody tr th {\n",
       "        vertical-align: top;\n",
       "    }\n",
       "\n",
       "    .dataframe thead th {\n",
       "        text-align: right;\n",
       "    }\n",
       "</style>\n",
       "<table border=\"1\" class=\"dataframe\">\n",
       "  <thead>\n",
       "    <tr style=\"text-align: right;\">\n",
       "      <th></th>\n",
       "      <th>Object Begin Date</th>\n",
       "      <th>Object End Date</th>\n",
       "    </tr>\n",
       "  </thead>\n",
       "  <tbody>\n",
       "    <tr>\n",
       "      <th>27028</th>\n",
       "      <td>5</td>\n",
       "      <td>0</td>\n",
       "    </tr>\n",
       "    <tr>\n",
       "      <th>32730</th>\n",
       "      <td>-45</td>\n",
       "      <td>-55</td>\n",
       "    </tr>\n",
       "    <tr>\n",
       "      <th>47446</th>\n",
       "      <td>1861</td>\n",
       "      <td>9</td>\n",
       "    </tr>\n",
       "    <tr>\n",
       "      <th>79142</th>\n",
       "      <td>1875</td>\n",
       "      <td>1800</td>\n",
       "    </tr>\n",
       "    <tr>\n",
       "      <th>118850</th>\n",
       "      <td>1785</td>\n",
       "      <td>1779</td>\n",
       "    </tr>\n",
       "    <tr>\n",
       "      <th>...</th>\n",
       "      <td>...</td>\n",
       "      <td>...</td>\n",
       "    </tr>\n",
       "    <tr>\n",
       "      <th>401618</th>\n",
       "      <td>1545</td>\n",
       "      <td>0</td>\n",
       "    </tr>\n",
       "    <tr>\n",
       "      <th>406659</th>\n",
       "      <td>0</td>\n",
       "      <td>-1</td>\n",
       "    </tr>\n",
       "    <tr>\n",
       "      <th>440958</th>\n",
       "      <td>2</td>\n",
       "      <td>0</td>\n",
       "    </tr>\n",
       "    <tr>\n",
       "      <th>451589</th>\n",
       "      <td>1</td>\n",
       "      <td>-300</td>\n",
       "    </tr>\n",
       "    <tr>\n",
       "      <th>452732</th>\n",
       "      <td>1815</td>\n",
       "      <td>0</td>\n",
       "    </tr>\n",
       "  </tbody>\n",
       "</table>\n",
       "<p>188 rows × 2 columns</p>\n",
       "</div>"
      ],
      "text/plain": [
       "        Object Begin Date  Object End Date\n",
       "27028                   5                0\n",
       "32730                 -45              -55\n",
       "47446                1861                9\n",
       "79142                1875             1800\n",
       "118850               1785             1779\n",
       "...                   ...              ...\n",
       "401618               1545                0\n",
       "406659                  0               -1\n",
       "440958                  2                0\n",
       "451589                  1             -300\n",
       "452732               1815                0\n",
       "\n",
       "[188 rows x 2 columns]"
      ]
     },
     "execution_count": 28,
     "metadata": {},
     "output_type": "execute_result"
    }
   ],
   "source": [
    "objectDateTable = df[['Object Begin Date', 'Object End Date']].dropna(axis = 0, how = 'all')\n",
    "objectDateTable[objectDateTable['Object Begin Date'] > objectDateTable['Object End Date']]"
   ]
  },
  {
   "cell_type": "markdown",
   "metadata": {},
   "source": [
    "### Geografická data\n",
    " * Máme zde atributy 'Geography Type', 'City', 'State', 'County','Country','Region', 'Subregion'.\n",
    " * Vztahů mezi těmito atributy můžeme najít hned několik, avšak využít tyto vztahy ke kontrole integrity je velmi komplikované. Dá se například předpokládat, že konkrétní okres nebude pravděpodobně ve více krajích, pokud by byl, je třeba se podívat, zda se nejedná o chybu. Vidíme, že byla nalezena hodnota '|', to však není validní název okresu, proto se nejedná o chybu integrity.\n",
    " * Stejně tak 'Region' a 'Subregion' sice nějaké zdánlivé problémy zobrazí, nicméně při bližším zkoumání zjistíme, že je to způsobeno odlišnými názvy pro stejné země, tudíž o problém integrity se nejedná."
   ]
  },
  {
   "cell_type": "code",
   "execution_count": 29,
   "metadata": {},
   "outputs": [
    {
     "name": "stdout",
     "output_type": "stream",
     "text": [
      "Kontrola integry kraj a okresu:\n",
      "\n",
      "State with value |in: \n",
      "\n",
      "['Kansas' 'Idaho, Oregon, or Washington' 'Oklahoma' 'Gujarat'\n",
      " 'Northern Honan' 'Iran' 'Rhine Valley or Meuse Valley' 'Martynovka'\n",
      " 'Gaul|Niederbreisig' 'Gaul' 'Bonnefont' 'Pyrénées' 'Kathmandu Valley'\n",
      " 'Andes region' 'Tibet' 'Northwest' 'Kashmir|Jammu and Kashmir'\n",
      " 'Central Anatolia|Deccan' 'Arkansas']\n",
      "Kontrola integry země a kraj:\n",
      "\n",
      "Subregion with value Sheikh Abd el-Qurnain: \n",
      "\n",
      "['Upper Egypt, Thebes' 'Upper Egypt'\n",
      " 'Upper Egypt, Thebes|Upper Egypt, Thebes']\n",
      "\n",
      "Subregion with value Saqqarain: \n",
      "\n",
      "['Memphite Region' 'Originally from Memphite Region']\n",
      "\n",
      "Subregion with value Memphis (Mit Rahina)in: \n",
      "\n",
      "['Memphite Region' 'Memphite region']\n",
      "\n",
      "Subregion with value Amarna (Akhetaten)in: \n",
      "\n",
      "['Middle Egypt' 'Middle Egypt|Middle Egypt']\n",
      "\n",
      "Subregion with value Valley of the Kingsin: \n",
      "\n",
      "['Upper Egypt, Thebes' 'Upper Egypt; Thebes']\n",
      "\n",
      "Subregion with value Malqatain: \n",
      "\n",
      "['Upper Egypt, Thebes' 'Upper Egypt; Thebes']\n",
      "\n",
      "Subregion with value Southern Asasifin: \n",
      "\n",
      "['Upper Egypt, Thebes' 'Upper Egypt: Thebes']\n",
      "\n",
      "Subregion with value Deir Rifain: \n",
      "\n",
      "['Middle Egypt' 'Northern Upper Egypt']\n",
      "\n",
      "Subregion with value Dra Abu el-Nagain: \n",
      "\n",
      "['Upper Egypt, Thebes' 'Upper Egypt, Thebes|Upper Egypt, Thebes']\n",
      "\n",
      "Subregion with value Akhmim (Khemmis, Panopolis)in: \n",
      "\n",
      "['Upper Egypt, Thebes or Northern Upper Egypt' 'Northern Upper Egypt']\n",
      "\n",
      "Subregion with value Abydos|Abydosin: \n",
      "\n",
      "['Northern Upper Egypt' 'Northern Upper Egypt|Northern Upper Egypt']\n",
      "\n",
      "Subregion with value Meidumin: \n",
      "\n",
      "['Memphite Region' 'Fayum Entrance Area']\n",
      "\n",
      "Subregion with value Southern Asasif, Royal Cache Valleyin: \n",
      "\n",
      "['Upper Egypt, Thebes' 'Upper Egypt: Thebes']\n",
      "\n",
      "Subregion with value Alexandriain: \n",
      "\n",
      "['Alexandria Region' 'Alexandria region']\n",
      "\n",
      "Subregion with value Farasin: \n",
      "\n",
      "['Lower Nubia' 'Upper Nubia']\n"
     ]
    }
   ],
   "source": [
    "checkIntegritySub('County', 'State', 'kraj', 'okresu')\n",
    "checkIntegritySub('Region', 'Subregion', 'země', 'kraj')"
   ]
  },
  {
   "cell_type": "markdown",
   "metadata": {},
   "source": [
    "## 4. Konverze datových typů\n",
    " * Byly převedeny příznaky 'AccessionYear' (datetime), 'Department' (category), 'Constiuent ID' (numeric), 'Gallery Number' (numeric), 'Repository' (category).\n",
    " * U příznaku 'AccessionYear' bylo potřeba nejprve nahradit nekonzistentní hodnoty (viz 2. Kontrola konzistence).\n",
    " * U příznaku 'Gallery Number' bylo 15 řádků zapsáno pomocí stringu, jednalo se o hodnoty ['Façade', 'Petrie Ct. Café', 'in Great Hall', 'on Fifth Avenue']. Zbylé hodnoty byly zapsány pomocí trojciferného celého čísla. Pro odlišení původních a nových hodnot byly nekonzistentní hodnoty nahrazeny hodnotami [1, 2, 3, 4]. "
   ]
  },
  {
   "cell_type": "code",
   "execution_count": 30,
   "metadata": {},
   "outputs": [],
   "source": [
    "df['AccessionYear'] = df['AccessionYear'].apply(lambda x: str(x).split('-')[0])\n",
    "df['AccessionYear'] = pd.to_datetime(df['AccessionYear'], format='%Y').astype('datetime64[Y]')"
   ]
  },
  {
   "cell_type": "code",
   "execution_count": 31,
   "metadata": {},
   "outputs": [],
   "source": [
    "department_category = pd.api.types.CategoricalDtype(categories=['The American Wing', 'European Sculpture and Decorative Arts',\n",
    "       'Modern and Contemporary Art', 'Arms and Armor', 'Medieval Art',\n",
    "       'Asian Art', 'Islamic Art', 'Costume Institute',\n",
    "       'Arts of Africa, Oceania, and the Americas', 'Drawings and Prints',\n",
    "       'Greek and Roman Art', 'Photographs', 'Ancient Near Eastern Art',\n",
    "       'European Paintings', 'Robert Lehman Collection', 'The Cloisters',\n",
    "       'Musical Instruments', 'Egyptian Art', 'The Libraries'], ordered=False)\n",
    "df['Department'] = df['Department'].astype(department_category)"
   ]
  },
  {
   "cell_type": "code",
   "execution_count": 32,
   "metadata": {},
   "outputs": [
    {
     "data": {
      "text/plain": [
       "[The American Wing, European Sculpture and Decorative Arts, Modern and Contemporary Art, Arms and Armor, Medieval Art, ..., Robert Lehman Collection, The Cloisters, Musical Instruments, Egyptian Art, The Libraries]\n",
       "Length: 19\n",
       "Categories (19, object): [The American Wing, European Sculpture and Decorative Arts, Modern and Contemporary Art, Arms and Armor, ..., The Cloisters, Musical Instruments, Egyptian Art, The Libraries]"
      ]
     },
     "metadata": {},
     "output_type": "display_data"
    }
   ],
   "source": [
    "display(df['Department'].unique())"
   ]
  },
  {
   "cell_type": "code",
   "execution_count": 33,
   "metadata": {},
   "outputs": [],
   "source": [
    "df['Constiuent ID'] = df['Constiuent ID'].astype(float)"
   ]
  },
  {
   "cell_type": "code",
   "execution_count": 34,
   "metadata": {},
   "outputs": [],
   "source": [
    "nonNumericValues = sorted(df[df['Gallery Number'].str.isdigit()==False]['Gallery Number'].unique())\n",
    "df['Gallery Number'] = df['Gallery Number'].apply(lambda x: x if (str(x).isdigit() or x!=x) else str(nonNumericValues.index(x)+1))\n",
    "df['Gallery Number'] = pd.to_numeric(df['Gallery Number'])"
   ]
  },
  {
   "cell_type": "code",
   "execution_count": 35,
   "metadata": {},
   "outputs": [
    {
     "data": {
      "text/plain": [
       "[Metropolitan Museum of Art, New York, NY]\n",
       "Categories (1, object): [Metropolitan Museum of Art, New York, NY]"
      ]
     },
     "metadata": {},
     "output_type": "display_data"
    }
   ],
   "source": [
    "repository_category = pd.api.types.CategoricalDtype(categories=['Metropolitan Museum of Art, New York, NY'], ordered=False)\n",
    "df['Repository'] = df['Repository'].astype(repository_category)\n",
    "display(df['Repository'].unique())"
   ]
  },
  {
   "cell_type": "code",
   "execution_count": 36,
   "metadata": {},
   "outputs": [
    {
     "name": "stdout",
     "output_type": "stream",
     "text": [
      "<class 'pandas.core.frame.DataFrame'>\n",
      "RangeIndex: 474526 entries, 0 to 474525\n",
      "Data columns (total 5 columns):\n",
      " #   Column          Non-Null Count   Dtype         \n",
      "---  ------          --------------   -----         \n",
      " 0   AccessionYear   470560 non-null  datetime64[ns]\n",
      " 1   Department      474526 non-null  category      \n",
      " 2   Constiuent ID   272672 non-null  float64       \n",
      " 3   Gallery Number  54386 non-null   float64       \n",
      " 4   Repository      474526 non-null  category      \n",
      "dtypes: category(2), datetime64[ns](1), float64(2)\n",
      "memory usage: 11.8 MB\n"
     ]
    }
   ],
   "source": [
    "df[['AccessionYear', 'Department', 'Constiuent ID', 'Gallery Number', 'Repository']].info()"
   ]
  },
  {
   "cell_type": "markdown",
   "metadata": {},
   "source": [
    "## 5. Anomálie"
   ]
  },
  {
   "cell_type": "markdown",
   "metadata": {},
   "source": [
    "### Jeden příznak - 'Object Begin Date'\n",
    " * Pro detekci anomálií u jednoho přízaku byl zvolen příznak 'Object Begin Date', který by měl symbolizovat rok, ze kterého objekt pochází. Hledání anomálií nám pomůže určit příliš staré objekty nebo naopak příliš mladé, které by mohly představovat chyby. \n",
    " * K vyhledání anomálií byla zvolena technika z přednášky (rule of thumbs), která najde anomálie vně intervalu (Q1 - 1.5 * IQR, Q3 + 1.5 * IQR), kde Q1 je 25%-kvantil, Q3 je 75%-kvantil a IQR je rozsah mezi těmito kvantily.\n",
    " * Můžeme si všimnout, že metoda nalezla v horní polovině objekty s hodnotou příznaku 5000, což je velmi zvláštní vzhledem k tomu, že se právě píše rok 2020. Tyto dva objekty budou nejspíše chybně zadanou hodnotou, jinak bychom museli uvažovat nad teoriemi, že objekt pochází z budoucnosti. V dolní polovině si zase můžeme všimnout extrémně nízkých hodnot příznaku, což ale může značit extrémní stáří daného předmětu a nemusí jít nutně o chybu."
   ]
  },
  {
   "cell_type": "code",
   "execution_count": 37,
   "metadata": {},
   "outputs": [
    {
     "data": {
      "text/plain": [
       "'Počet anomálií: 89620'"
      ]
     },
     "metadata": {},
     "output_type": "display_data"
    }
   ],
   "source": [
    "col = 'Object Begin Date'\n",
    "Q1 = df.quantile(0.25)\n",
    "Q3 = df.quantile(0.75)\n",
    "IQR =  Q3 - Q1\n",
    "DateOut = (df[col] > Q3[col] + 1.5*IQR[col]) | (df[col] < Q1[col] - 1.5*IQR[col])\n",
    "display(\"Počet anomálií: \" + str(DateOut.sum()))\n",
    "outData = df[DateOut].sort_values([col], ascending = False)"
   ]
  },
  {
   "cell_type": "code",
   "execution_count": 38,
   "metadata": {},
   "outputs": [
    {
     "data": {
      "text/html": [
       "<div>\n",
       "<style scoped>\n",
       "    .dataframe tbody tr th:only-of-type {\n",
       "        vertical-align: middle;\n",
       "    }\n",
       "\n",
       "    .dataframe tbody tr th {\n",
       "        vertical-align: top;\n",
       "    }\n",
       "\n",
       "    .dataframe thead th {\n",
       "        text-align: right;\n",
       "    }\n",
       "</style>\n",
       "<table border=\"1\" class=\"dataframe\">\n",
       "  <thead>\n",
       "    <tr style=\"text-align: right;\">\n",
       "      <th></th>\n",
       "      <th>Object ID</th>\n",
       "      <th>Object Name</th>\n",
       "      <th>Object Begin Date</th>\n",
       "      <th>Object End Date</th>\n",
       "    </tr>\n",
       "  </thead>\n",
       "  <tbody>\n",
       "    <tr>\n",
       "      <th>336164</th>\n",
       "      <td>502410</td>\n",
       "      <td>Bell</td>\n",
       "      <td>5000</td>\n",
       "      <td>0</td>\n",
       "    </tr>\n",
       "    <tr>\n",
       "      <th>335935</th>\n",
       "      <td>502176</td>\n",
       "      <td>Bell</td>\n",
       "      <td>5000</td>\n",
       "      <td>1</td>\n",
       "    </tr>\n",
       "    <tr>\n",
       "      <th>33383</th>\n",
       "      <td>39179</td>\n",
       "      <td>Figurine</td>\n",
       "      <td>976</td>\n",
       "      <td>1049</td>\n",
       "    </tr>\n",
       "    <tr>\n",
       "      <th>43417</th>\n",
       "      <td>50438</td>\n",
       "      <td>Dagger</td>\n",
       "      <td>976</td>\n",
       "      <td>1499</td>\n",
       "    </tr>\n",
       "    <tr>\n",
       "      <th>33257</th>\n",
       "      <td>39047</td>\n",
       "      <td>Figurine</td>\n",
       "      <td>976</td>\n",
       "      <td>1049</td>\n",
       "    </tr>\n",
       "  </tbody>\n",
       "</table>\n",
       "</div>"
      ],
      "text/plain": [
       "        Object ID Object Name  Object Begin Date  Object End Date\n",
       "336164     502410        Bell               5000                0\n",
       "335935     502176        Bell               5000                1\n",
       "33383       39179    Figurine                976             1049\n",
       "43417       50438      Dagger                976             1499\n",
       "33257       39047    Figurine                976             1049"
      ]
     },
     "execution_count": 38,
     "metadata": {},
     "output_type": "execute_result"
    }
   ],
   "source": [
    "outData[['Object ID', 'Object Name', col, 'Object End Date']].head()"
   ]
  },
  {
   "cell_type": "code",
   "execution_count": 39,
   "metadata": {},
   "outputs": [
    {
     "data": {
      "text/html": [
       "<div>\n",
       "<style scoped>\n",
       "    .dataframe tbody tr th:only-of-type {\n",
       "        vertical-align: middle;\n",
       "    }\n",
       "\n",
       "    .dataframe tbody tr th {\n",
       "        vertical-align: top;\n",
       "    }\n",
       "\n",
       "    .dataframe thead th {\n",
       "        text-align: right;\n",
       "    }\n",
       "</style>\n",
       "<table border=\"1\" class=\"dataframe\">\n",
       "  <thead>\n",
       "    <tr style=\"text-align: right;\">\n",
       "      <th></th>\n",
       "      <th>Object ID</th>\n",
       "      <th>Object Name</th>\n",
       "      <th>Object Begin Date</th>\n",
       "      <th>Object End Date</th>\n",
       "    </tr>\n",
       "  </thead>\n",
       "  <tbody>\n",
       "    <tr>\n",
       "      <th>363911</th>\n",
       "      <td>573092</td>\n",
       "      <td>Tool, point, Levallois</td>\n",
       "      <td>-240000</td>\n",
       "      <td>-40000</td>\n",
       "    </tr>\n",
       "    <tr>\n",
       "      <th>363909</th>\n",
       "      <td>573090</td>\n",
       "      <td>Tool, denticulate, Levallois</td>\n",
       "      <td>-240000</td>\n",
       "      <td>-40000</td>\n",
       "    </tr>\n",
       "    <tr>\n",
       "      <th>470122</th>\n",
       "      <td>832566</td>\n",
       "      <td>Biface</td>\n",
       "      <td>-300050</td>\n",
       "      <td>-125000</td>\n",
       "    </tr>\n",
       "    <tr>\n",
       "      <th>363923</th>\n",
       "      <td>573104</td>\n",
       "      <td>Tool, biface, hand ax, sub-cordiform</td>\n",
       "      <td>-400000</td>\n",
       "      <td>-240000</td>\n",
       "    </tr>\n",
       "    <tr>\n",
       "      <th>363915</th>\n",
       "      <td>573096</td>\n",
       "      <td>Tool, Biface, Hand-axe, Ovate</td>\n",
       "      <td>-400000</td>\n",
       "      <td>-240000</td>\n",
       "    </tr>\n",
       "  </tbody>\n",
       "</table>\n",
       "</div>"
      ],
      "text/plain": [
       "        Object ID                           Object Name  Object Begin Date  \\\n",
       "363911     573092                Tool, point, Levallois            -240000   \n",
       "363909     573090          Tool, denticulate, Levallois            -240000   \n",
       "470122     832566                                Biface            -300050   \n",
       "363923     573104  Tool, biface, hand ax, sub-cordiform            -400000   \n",
       "363915     573096         Tool, Biface, Hand-axe, Ovate            -400000   \n",
       "\n",
       "        Object End Date  \n",
       "363911           -40000  \n",
       "363909           -40000  \n",
       "470122          -125000  \n",
       "363923          -240000  \n",
       "363915          -240000  "
      ]
     },
     "execution_count": 39,
     "metadata": {},
     "output_type": "execute_result"
    }
   ],
   "source": [
    "outData[['Object ID', 'Object Name', col, 'Object End Date']].tail()"
   ]
  },
  {
   "cell_type": "markdown",
   "metadata": {},
   "source": [
    "### Více příznaků - Délka jména objektu a životnost objektu\n",
    " * Pro tuto část byly vytvořeny příznaky 'ObjectNameLen' (délka názvu objektu) a 'Object Duration' životnost objektu. \n",
    " * Následně bylo pomocí algoritmu K-Means vytvořeno 8 clusterů a z centroidů těchto clusterů byly nalezeny objekty s největší vzdáleností od centroidů. \n",
    " * 5 z nich bylo vypsáno. Můžeme si všimnout, že nalezené anomálie tvoří objekty s velmi malou délkou názvu, ale s poměrně dlouhou životností. Na 4. a 5. pozici si opět můžeme všimnout dvou anomálií z předchozího příkladu, které mají chybně zadány parametry. I touto metodou jsme tedy objevili největší anomálie.\n",
    " * V grafu si můžeme všimnout jednotlivých shluků a také separovaných bodů, které představují dané anomálie."
   ]
  },
  {
   "cell_type": "code",
   "execution_count": 40,
   "metadata": {},
   "outputs": [],
   "source": [
    "df['ObjectNameLen'] = df['Object Name'].str.len()\n",
    "df['Object Duration'] = df['Object End Date'] - df['Object Begin Date']"
   ]
  },
  {
   "cell_type": "code",
   "execution_count": 41,
   "metadata": {},
   "outputs": [
    {
     "data": {
      "text/html": [
       "<div>\n",
       "<style scoped>\n",
       "    .dataframe tbody tr th:only-of-type {\n",
       "        vertical-align: middle;\n",
       "    }\n",
       "\n",
       "    .dataframe tbody tr th {\n",
       "        vertical-align: top;\n",
       "    }\n",
       "\n",
       "    .dataframe thead th {\n",
       "        text-align: right;\n",
       "    }\n",
       "</style>\n",
       "<table border=\"1\" class=\"dataframe\">\n",
       "  <thead>\n",
       "    <tr style=\"text-align: right;\">\n",
       "      <th></th>\n",
       "      <th>Object ID</th>\n",
       "      <th>ObjectNameLen</th>\n",
       "      <th>Object Duration</th>\n",
       "    </tr>\n",
       "  </thead>\n",
       "  <tbody>\n",
       "    <tr>\n",
       "      <th>365660</th>\n",
       "      <td>590917</td>\n",
       "      <td>4.0</td>\n",
       "      <td>60000</td>\n",
       "    </tr>\n",
       "    <tr>\n",
       "      <th>470122</th>\n",
       "      <td>832566</td>\n",
       "      <td>6.0</td>\n",
       "      <td>175050</td>\n",
       "    </tr>\n",
       "    <tr>\n",
       "      <th>100045</th>\n",
       "      <td>188903</td>\n",
       "      <td>4.0</td>\n",
       "      <td>13812</td>\n",
       "    </tr>\n",
       "    <tr>\n",
       "      <th>336164</th>\n",
       "      <td>502410</td>\n",
       "      <td>4.0</td>\n",
       "      <td>-5000</td>\n",
       "    </tr>\n",
       "    <tr>\n",
       "      <th>335935</th>\n",
       "      <td>502176</td>\n",
       "      <td>4.0</td>\n",
       "      <td>-4999</td>\n",
       "    </tr>\n",
       "  </tbody>\n",
       "</table>\n",
       "</div>"
      ],
      "text/plain": [
       "        Object ID  ObjectNameLen  Object Duration\n",
       "365660     590917            4.0            60000\n",
       "470122     832566            6.0           175050\n",
       "100045     188903            4.0            13812\n",
       "336164     502410            4.0            -5000\n",
       "335935     502176            4.0            -4999"
      ]
     },
     "execution_count": 41,
     "metadata": {},
     "output_type": "execute_result"
    },
    {
     "data": {
      "image/png": "[encoded data removed]",
      "text/plain": [
       "<Figure size 432x288 with 1 Axes>"
      ]
     },
     "metadata": {
      "needs_background": "light"
     },
     "output_type": "display_data"
    }
   ],
   "source": [
    "data = df[['ObjectNameLen', 'Object Duration']].dropna(axis = 0, how = 'any')\n",
    "kmeans = KMeans(n_clusters=8, random_state=0).fit(data)\n",
    "plt.scatter(x=data['ObjectNameLen'], y=data['Object Duration'], c=kmeans.labels_)\n",
    "distances = kmeans.transform(data)\n",
    "min_distances = pd.Series(np.apply_along_axis(min, 1, distances))\n",
    "largestValues = df.loc[data.iloc[min_distances.nlargest(5).index].index]\n",
    "largestValues[['Object ID', 'ObjectNameLen','Object Duration']]"
   ]
  },
  {
   "cell_type": "markdown",
   "metadata": {},
   "source": [
    "## 6. Chybějící data"
   ]
  },
  {
   "cell_type": "markdown",
   "metadata": {},
   "source": [
    "### Příznak 'Dimensions'\n",
    " * Nejprve se u příznaku podívejme, zda neobsahuje nějaké chybějící hodnoty zapsané pomocí řetězce.\n",
    " * Podezřelé jsou hodnoty délky kratší než 5. Z výpisu těchto hodnot vidíme prázdné hodnoty '\\r\\n' a '\\r\\n\\r\\n' a také nesmyslnou hodnotu obsahující pouze apostrof. Dále vidíme hodnotu 'N.A.', která také představuje chybějící hodnotu.\n",
    " * Dále si můžeme vypsat pro lepší analýzu hodnoty do délky 10. Zde si můžeme všimnout hodnoty 'Unknown', která nám naznačuje, že způsobů zápisů chybějících hodnot může být více. Sestavíme si pole nullValues skládájící se z hodnot, které obsahují řetězce 'not', 'Not', 'Un', 'available', 'recorded', '\\r\\n', 'N.A.' a zároveň nejsou moc dlouhé. Do tohoto pole také přidáme řetězce délky kratší než 2. Nemůžeme si být jistí, že jsme nalezli všechny hodnoty, které jsou ekvivalentní s chybějícími hodnotami, avšak všechny hodnoty, které jsou v poli, můžeme nahradit hodnotami NaN.\n",
    " * Poslední výstup říká, že původně bylo v datasetu 75475 NaN hodnot. Nově je v tabulce o 958 NaN hodnot více, tedy 76433."
   ]
  },
  {
   "cell_type": "code",
   "execution_count": 42,
   "metadata": {},
   "outputs": [
    {
     "data": {
      "text/plain": [
       "array(['\\r\\n', 'Oban', '\\r\\n\\r\\n', '35mm', '33cm', '12vo', '`', '3 cm',\n",
       "       'N.A.'], dtype=object)"
      ]
     },
     "execution_count": 42,
     "metadata": {},
     "output_type": "execute_result"
    }
   ],
   "source": [
    "df[df['Dimensions'].str.len()<5]['Dimensions'].unique()"
   ]
  },
  {
   "cell_type": "code",
   "execution_count": 43,
   "metadata": {},
   "outputs": [
    {
     "data": {
      "text/plain": [
       "array(['2 1/4 in.', '\\r\\n', 'Oban', '2 sizes', '55 x  in.', '\\r\\n\\r\\n',\n",
       "       'D. 91 mm.', 'No meas.', '15 yards', '5 yards', '56.5 mm',\n",
       "       '36.8 mm', '37.1 mm', 'Overall:', 'L. 1.8 cm', '18 mm.', '19 mm',\n",
       "       'L. 2 cm', 'H. 14 cm.', 'H. 3 cm.', 'H. 14 cm', 'L. 2.5 cm',\n",
       "       'L., 12\"', 'H. 9 mm.', 'H. 9mm', 'L. 1.3 cm', 'L. 3.3 cm',\n",
       "       'L. 1.5 cm', 'L. 1.1 cm', 'L. 2.1 cm', 'L. 3.7 cm', 'L. 1.9 cm',\n",
       "       'L. 1.7 cm', 'L. 2.3 cm', 'Cut down', '3 x 4 in.', '4 x 5 in.',\n",
       "       '5 x 7 in.', '4 x 6 in.', '6 x 8 in.', '35mm', '35mm each',\n",
       "       '5 X 7 in.', '120mm', 'Variable', '3 x 2 3/4', '8 x 10', '11 x 14',\n",
       "       '8 x 6', 'Various', '6 7/8 x 9', '8 x 6 1/8', '9 x 6 5/8',\n",
       "       '9 5/8 x 5', 'Varies', '19.5 24.8', '33cm', 'H. 11 in.',\n",
       "       'H. 34 in.', 'L. 7.7 cm', 'L. 54 cm', 'L. 32 cm', 'L. 28 cm',\n",
       "       'H. 9.1 cm', 'H. 41 cm', 'H. 18 cm', '12vo', '8 1/4 x 6', '11x17',\n",
       "       'various', '47 x 35.5', '`', '2 x 5 in', '3/4 in.', '3 1/4 in.',\n",
       "       'H. 13 in.', '7 in.', 'H. 7 in.', 'L. 1in', 'L. 9.2cm', 'H. 3.7cm',\n",
       "       'H. 3.2cm', 'L. 0.049m', 'H. 62 cm.', 'L. 94 cm', 'L. 45 cm.',\n",
       "       'L. 42 cm', 'H 15.8 cm', 'H. 31 cm.', 'H. 6.3 cm', 'H. 6.7 cm',\n",
       "       'H. 68 cm.', 'H. 6.6 cm', 'H. 17 cm', 'H. 23 cm.', 'H. 24 cm',\n",
       "       'D. 45 cm', 'H. 9.4 cm', 'H. 5 cm', 'H. 25 cm.', 'H 7.6 cm',\n",
       "       'H. 8 cm', 'H. 7.6 cm', 'Unknown', 'H. 60 in.', 'H. 45\"',\n",
       "       'L. 61 cm.', 'L. 24 in.', 'L. 755 mm', 'L. 328 mm', 'L. 318 mm',\n",
       "       'L. 280 mm', 'L. 247 mm', 'L. 220 mm', 'L. 73 cm.', 'L. 8 in.',\n",
       "       'H. 16 in.', 'L. 16 in.', 'L. 1 ft.', 'L. 18 in.', 'L. 27 in.',\n",
       "       'L. 21 in.', 'L.12 in.', 'L. 42 in.', 'L. 12 in.', 'L. 48 in.',\n",
       "       'L. 15 in.', 'L. 10 in.', 'L. 60 cm', 'L. 748 mm', 'L. 655 mm',\n",
       "       'L. 56 mm', 'L. 603 mm', 'L. 729 mm', '31/4x5l/2', '3 x 5 1/4',\n",
       "       '3 x 5 1/2', '3 x 5 1/8', '3 x 7 1/8', '2 5/8 x 4', '3 x 5',\n",
       "       '2 7/8 x 5', '2.5 x 5', '3 1/2 x 6', '4 x 6 3/4', '2 1/2 x4',\n",
       "       '2 1/2 x 4', '3 x 3 1/2', '21/2 x 3', '4 x 6', '3 x 6',\n",
       "       '3 x 5 7/8', '3 1/4 x 6', 'L. 670 mm', 'H. 9.2 cm', 'H. 21 cm',\n",
       "       'L: 1.5 cm', 'H. 0.183m', 'H. 30 cm', '0.085m', 'L. 71 cm',\n",
       "       '5.3 cm', '3.3 cm', '6 x 7 x 3', '7 x 9 x 2', '7 x 8 cm',\n",
       "       'H. 55 cm', 'L. 2.9 cm', 'L. 4.7 cm', 'L. 38 cm', 'H. 0.483m',\n",
       "       'H. 0.175m', 'not taken', 'L. 3.8 cm', 'L. 14 cm', 'L. 6.8 cm',\n",
       "       '10 cm', '1.6 cm', '3 cm', 'L. 4.2 cm', 'L. 4.3 cm', 'L. 3 cm',\n",
       "       '2.5 cm', '1.8 cm', '1.9 cm', 'L. 35 cm', 'H. 0.034m', 'L. 0.046m',\n",
       "       'H. 0.035m', 'L. .033m', 'L. 046m', 'L. 4 cm', '5.4 cm', '4.3 cm',\n",
       "       'L. 0.18m', '1.7 cm', '1.5 cm', '1.45 cm', '1.35 cm', '1.3 cm',\n",
       "       '1.2 cm', '1.4 cm', '1.73 cm', 'L. 6.4 cm', 'L. 19 cm.',\n",
       "       'L. 2.7 cm', 'H. 5.6 cm', 'H. 11.8\\r\\n', 'L. .014m', 'H. 2.4 cm',\n",
       "       'H. 1.2 cm', 'H 7.7 cm', 'H. 10 cm', 'H. 3 cm', 'L. .016m',\n",
       "       'W. 1.9 cm', 'H. 0.021m', 'H. 3.2 cm', 'H. 4.3 cm', 'L. 5 cm',\n",
       "       'H. 0.20m', 'L. 0.021m', 'L. 0.013m', 'L. 0.127m', '14 cm',\n",
       "       'H. 0.102m', 'L. 0.018m', 'L. 0.015m', 'L. 0.014m', '0.01m',\n",
       "       'L. 39cm', 'L. 0.017m', 'L. 0.024m', 'L. 1.2 cm', 'L. 1.4 cm',\n",
       "       'L. 1 cm', 'L. 0.098m', '34.8 cm', 'L. 0.11m', 'L. 1.6 cm',\n",
       "       'L. .8 cm', 'L. 0.019m', 'L. 9.5 cm', 'H. 26 cm', 'H. 7.5 cm',\n",
       "       'H. 12 cm', 'L. 8.5 cm', 'H. 5.8 cm', 'H. 16 cm', 'H. 38 cm',\n",
       "       'L. 6 cm', 'L. 0.02m', 'H. 35 cm', 'L. 3.1 cm', 'H. 28 cm',\n",
       "       'H. 0.11m', 'N.A.', '1.1 cm', 'L. 12 cm', 'L. 7.5 cm', 'H. 0.125m',\n",
       "       'L.1.7 cm', 'H. 1.8 cm', 'L. 5.8 cm', 'H. 42 cm', 'H. 0.11 m',\n",
       "       'H. 0.067m', 'H. 0.116m', 'L. 4.5 cm', 'L. 6.2 cm', 'H. 11 cm',\n",
       "       'L. 2 in.', 'L. 0.121m', 'L. 33 cm', '2 vols.', '683 pages',\n",
       "       '144 pages', '20 cm', '15 cm', 'H. 5 in.', 'H. 9 in.', 'H. 5 in. ',\n",
       "       'H. 4 in.', 'H. 8 in.', 'H. 10 in.', 'H. 5  in.', 'H. 8  in.',\n",
       "       'H. 7 in. ', 'H. 6 in.', 'H. 12 in.', '3 x 3 x 2', '3 x 2 x 1',\n",
       "       '4 x 2 x 2', '4 x 1 x 2', '3 x 2 x 2', '4 x 4 x 2', '2 x 1 x 1',\n",
       "       '4 x 3 x 2', 'Video', 'H: 9 ¼ in', 'D 23 cm', 'D 30 cm', 'D 28 cm',\n",
       "       'D. 9.5cm', '5 x 5 cm', 'D ≤ 30', '11 D cm', '10 D cm', '9 x 10\"',\n",
       "       'variable', 'H. 7in.', '7 x 9\"', '6 x 4 in.'], dtype=object)"
      ]
     },
     "execution_count": 43,
     "metadata": {},
     "output_type": "execute_result"
    }
   ],
   "source": [
    "df[df['Dimensions'].str.len()<10]['Dimensions'].unique()"
   ]
  },
  {
   "cell_type": "code",
   "execution_count": 44,
   "metadata": {},
   "outputs": [
    {
     "name": "stdout",
     "output_type": "stream",
     "text": [
      "Chybějící hodnoty v jiné podobě:\n",
      "\n",
      "['Dimensions not available', 'Dimensions not recorded', 'Dimensions  not recorded', 'Cannot be measured\\r\\n', 'Can not be measured', 'not measured', 'Fragment not measured', 'not taken', 'cannot be measured', 'Cannot be measured', 'Not measured', 'Not measured.', 'Not available', 'Unknown', 'Dimensions unavailable', 'Dimensions not available', '[no dimensions available]', 'no dimensions available', 'Not available', 'Dimensions unrecorded', 'No dimensions recorded', 'Dimensions not recorded', 'Dimensions  not recorded', 'No dimensions recorded.', '\\r\\n', '\\r\\n\\r\\n', 'N.A.', '`']\n"
     ]
    }
   ],
   "source": [
    "nullValues = []\n",
    "for nullString in [\"not\", \"Not\", \"Un\", \"available\", \"recorded\" ]:\n",
    "    newValues = df[df['Dimensions'].str.contains(nullString, regex=False)==True]['Dimensions'].unique()\n",
    "    for value in list(filter(lambda x: len(str(x)) < 30, newValues)):\n",
    "        nullValues.append(value)\n",
    "for nullString in [\"\\r\\n\", \"N.A.\"]:\n",
    "    newValues = df[df['Dimensions'].str.contains(nullString, regex=False)==True]['Dimensions'].unique()\n",
    "    for value in list(filter(lambda x: len(str(x)) < 5, newValues)):\n",
    "        nullValues.append(value)\n",
    "for value in list(df[df['Dimensions'].str.len()<2]['Dimensions'].unique()):\n",
    "    nullValues.append(value)\n",
    "print(\"Chybějící hodnoty v jiné podobě:\\n\")\n",
    "print(nullValues)"
   ]
  },
  {
   "cell_type": "code",
   "execution_count": 45,
   "metadata": {},
   "outputs": [
    {
     "name": "stdout",
     "output_type": "stream",
     "text": [
      "Původní počet chybějících hodnot ve správném formátu: 75475\n",
      "Aktuální počet chybějících hodnot ve správném formátu: 76433\n",
      "Nově vytvořené chybějící hodnoty ve správném formátu: 958\n"
     ]
    }
   ],
   "source": [
    "oldCount = df['Dimensions'].isnull().sum()\n",
    "print(\"Původní počet chybějících hodnot ve správném formátu: \" + str(oldCount))\n",
    "for nullValue in nullValues:\n",
    "    df['Dimensions'].replace([nullValue], np.nan, inplace=True)\n",
    "newCount = df['Dimensions'].isnull().sum()\n",
    "print(\"Aktuální počet chybějících hodnot ve správném formátu: \" + str(newCount))\n",
    "print(\"Nově vytvořené chybějící hodnoty ve správném formátu: \" + str(newCount - oldCount))"
   ]
  },
  {
   "cell_type": "markdown",
   "metadata": {},
   "source": [
    "### Příznak Culture\n",
    " * Jako v předchozím případě, můžeme se podívat na výskyt \"not\", \"Not\", \"Un\", \"available\", \"recorded\", \"\\n\", \"N.A.\" v hodnotách příznaku 'Culture'. Zde si můžeme všimnout pouze hodnot \"Unknown\" a \"N.A.\".\n",
    " * Dále po vypsání hodnot, jejichž délka je kratší než 5 znaků si můžeme všimnout hodnoty \"n.p.\" což nejspíše znamená \"not provided\". Další alternativy chybějících hodnot nalezeny nebyly.\n",
    " * Nahradíme tedy hodnoty \"Unknown\", \"N.A.\" a \"n.p.\" hodnotami NaN. Závěrečný výstup říká, že původně bylo v datasetu 268070 NaN hodnot. Nově je v tabulce o 142 NaN hodnot více, tedy 268212."
   ]
  },
  {
   "cell_type": "code",
   "execution_count": 46,
   "metadata": {},
   "outputs": [
    {
     "name": "stdout",
     "output_type": "stream",
     "text": [
      "[]\n",
      "['British, Nottingham', 'British, probably Nottingham', 'British, Nottingham (Derbyshire)']\n",
      "['American, New Berlin, Union County, Pennsylvania', 'India (Rajasthan, Uniara)', 'Unknown (China? Found in Vietnam)', 'Unknown', 'French (Unknown town) (Caen Mint)', 'Italian, working in France and United States', 'United States', 'United States (?)', 'Italian, Umbria and American (United States)', 'American, United States (New York?); and Italian or Spanish', 'American, United States (New York ?)', 'Italian (?) or American (United States?)', 'Italian or American (United States)', 'Italian, American (United States)', 'Italian (or United States?)', 'Italian or United States (?)', 'French (made United States)', 'Italian (?) or possibly United States (New York?)', 'American, United States', 'African; created in United Kingdom', 'Unknown fabric']\n",
      "[]\n",
      "[]\n",
      "['South Indian\\r\\n', 'Cypriot\\r\\n', 'Tsimshian\\r\\n, Native American', 'Iran\\r\\n']\n",
      "['N/A.']\n"
     ]
    }
   ],
   "source": [
    "for value in [\"not\", \"Not\", \"Un\", \"available\", \"recorded\", \"\\n\", \"N.A.\" ]:\n",
    "    print(list(df[df['Culture'].str.contains(value)==True]['Culture'].unique()))"
   ]
  },
  {
   "cell_type": "code",
   "execution_count": 47,
   "metadata": {},
   "outputs": [
    {
     "data": {
      "text/plain": [
       "array(['Bali', 'n.p.', 'Dyak', 'Thai', 'Nias', 'Laos', 'Maya', 'Inca',\n",
       "       'Ica', 'Wari', 'Hopi', 'Cuna', 'Kuba', 'Zenú', 'Bozo', 'Bum',\n",
       "       'Lobi', 'Guro', 'Bobo', 'Zuni', 'Viru', 'Nuna', 'Tiwi', 'Wapo',\n",
       "       'Naga', 'Bete', 'Koko', 'Crow', 'Pomo', 'Awyu', 'Mau', 'Boa',\n",
       "       'Mali', 'Nnam', 'Holo', 'Lio', 'Igbo', 'Peru', 'Nage', 'Lega',\n",
       "       'Sao', 'Iran', 'Avar', 'Zulu', 'Hiwi', 'Ebo', 'Lozi', 'Fang',\n",
       "       'Luba', 'Ketu', 'Dan', 'Edo', 'N/A.'], dtype=object)"
      ]
     },
     "execution_count": 47,
     "metadata": {},
     "output_type": "execute_result"
    }
   ],
   "source": [
    "df[df['Culture'].str.len()<5]['Culture'].unique()"
   ]
  },
  {
   "cell_type": "code",
   "execution_count": 48,
   "metadata": {},
   "outputs": [
    {
     "data": {
      "text/html": [
       "<div>\n",
       "<style scoped>\n",
       "    .dataframe tbody tr th:only-of-type {\n",
       "        vertical-align: middle;\n",
       "    }\n",
       "\n",
       "    .dataframe tbody tr th {\n",
       "        vertical-align: top;\n",
       "    }\n",
       "\n",
       "    .dataframe thead th {\n",
       "        text-align: right;\n",
       "    }\n",
       "</style>\n",
       "<table border=\"1\" class=\"dataframe\">\n",
       "  <thead>\n",
       "    <tr style=\"text-align: right;\">\n",
       "      <th></th>\n",
       "      <th>Culture</th>\n",
       "      <th>Period</th>\n",
       "      <th>Dynasty</th>\n",
       "      <th>Reign</th>\n",
       "    </tr>\n",
       "  </thead>\n",
       "  <tbody>\n",
       "    <tr>\n",
       "      <th>21766</th>\n",
       "      <td>n.p.</td>\n",
       "      <td>NaN</td>\n",
       "      <td>NaN</td>\n",
       "      <td>NaN</td>\n",
       "    </tr>\n",
       "  </tbody>\n",
       "</table>\n",
       "</div>"
      ],
      "text/plain": [
       "      Culture Period Dynasty Reign\n",
       "21766    n.p.    NaN     NaN   NaN"
      ]
     },
     "execution_count": 48,
     "metadata": {},
     "output_type": "execute_result"
    }
   ],
   "source": [
    "npLines = df[df['Culture'].str.contains('n.p.', regex=False)==True]\n",
    "npLines[['Culture', 'Period', 'Dynasty', 'Reign']]"
   ]
  },
  {
   "cell_type": "code",
   "execution_count": 49,
   "metadata": {},
   "outputs": [
    {
     "name": "stdout",
     "output_type": "stream",
     "text": [
      "Původní počet chybějících hodnot ve správném formátu: 268070\n",
      "Aktuální počet chybějících hodnot ve správném formátu: 268212\n",
      "Nově vytvořené chybějící hodnoty ve správném formátu: 142\n"
     ]
    }
   ],
   "source": [
    "oldCount = df['Culture'].isnull().sum()\n",
    "print(\"Původní počet chybějících hodnot ve správném formátu: \" + str(oldCount))\n",
    "for nullValue in [\"N.A.\", \"Unknown\", 'n.p.']:\n",
    "    df['Culture'].replace([nullValue], np.nan, inplace=True)\n",
    "newCount = df['Culture'].isnull().sum()\n",
    "print(\"Aktuální počet chybějících hodnot ve správném formátu: \" + str(newCount))\n",
    "print(\"Nově vytvořené chybějící hodnoty ve správném formátu: \" + str(newCount - oldCount))"
   ]
  },
  {
   "cell_type": "markdown",
   "metadata": {},
   "source": [
    "### Příznak 'AccessionYear'\n",
    " * Příznak 'Accession Year' již byl zpracován ve 4. části (konverze dat), tedy víme že chybějící hodnoty jsou zde reprezentovány správně pomocí hodnot NaN.\n",
    " * Hodnot NaN zde máme 3966 a tyto chybějící hodnoty se nyní pokusíme imputovat. \n",
    " * Jelikož příznak 'Accession Year' je ve formátu datetime,vytvoříme si pomocné příznaky 'Year' a 'MedianYear', se kterými následně budeme pracovat. Následně si seskupíme data pomocí oddělení (příznak 'Department') a pro každé  oddělení spočteme medián, kterým poté nahradíme chybějící hodnotu NaN právě podle příslušného oddělení.\n",
    " * Zobrazená tabulka, ukazuje imputované hodnoty pomocného příznaku 'MedianYear', které jsou následně imputovány i do příznaku 'AccessionYear'.\n",
    " * Pomocné příznaky 'Year' a 'MedianYear' jsou po této proceduře smazány.\n",
    " "
   ]
  },
  {
   "cell_type": "code",
   "execution_count": 50,
   "metadata": {},
   "outputs": [
    {
     "name": "stdout",
     "output_type": "stream",
     "text": [
      "Původní počet chybějících hodnot: 3966\n"
     ]
    },
    {
     "data": {
      "text/html": [
       "<div>\n",
       "<style scoped>\n",
       "    .dataframe tbody tr th:only-of-type {\n",
       "        vertical-align: middle;\n",
       "    }\n",
       "\n",
       "    .dataframe tbody tr th {\n",
       "        vertical-align: top;\n",
       "    }\n",
       "\n",
       "    .dataframe thead th {\n",
       "        text-align: right;\n",
       "    }\n",
       "</style>\n",
       "<table border=\"1\" class=\"dataframe\">\n",
       "  <thead>\n",
       "    <tr style=\"text-align: right;\">\n",
       "      <th></th>\n",
       "      <th>Object ID</th>\n",
       "      <th>AccessionYear</th>\n",
       "      <th>MedianYear</th>\n",
       "    </tr>\n",
       "  </thead>\n",
       "  <tbody>\n",
       "    <tr>\n",
       "      <th>123</th>\n",
       "      <td>132</td>\n",
       "      <td>NaT</td>\n",
       "      <td>1951.0</td>\n",
       "    </tr>\n",
       "    <tr>\n",
       "      <th>130</th>\n",
       "      <td>141</td>\n",
       "      <td>NaT</td>\n",
       "      <td>1951.0</td>\n",
       "    </tr>\n",
       "    <tr>\n",
       "      <th>131</th>\n",
       "      <td>142</td>\n",
       "      <td>NaT</td>\n",
       "      <td>1951.0</td>\n",
       "    </tr>\n",
       "    <tr>\n",
       "      <th>238</th>\n",
       "      <td>279</td>\n",
       "      <td>NaT</td>\n",
       "      <td>1951.0</td>\n",
       "    </tr>\n",
       "    <tr>\n",
       "      <th>394</th>\n",
       "      <td>449</td>\n",
       "      <td>NaT</td>\n",
       "      <td>1951.0</td>\n",
       "    </tr>\n",
       "    <tr>\n",
       "      <th>...</th>\n",
       "      <td>...</td>\n",
       "      <td>...</td>\n",
       "      <td>...</td>\n",
       "    </tr>\n",
       "    <tr>\n",
       "      <th>474515</th>\n",
       "      <td>845712</td>\n",
       "      <td>NaT</td>\n",
       "      <td>2009.0</td>\n",
       "    </tr>\n",
       "    <tr>\n",
       "      <th>474516</th>\n",
       "      <td>845713</td>\n",
       "      <td>NaT</td>\n",
       "      <td>2009.0</td>\n",
       "    </tr>\n",
       "    <tr>\n",
       "      <th>474517</th>\n",
       "      <td>845714</td>\n",
       "      <td>NaT</td>\n",
       "      <td>2009.0</td>\n",
       "    </tr>\n",
       "    <tr>\n",
       "      <th>474523</th>\n",
       "      <td>846327</td>\n",
       "      <td>NaT</td>\n",
       "      <td>1920.0</td>\n",
       "    </tr>\n",
       "    <tr>\n",
       "      <th>474524</th>\n",
       "      <td>846333</td>\n",
       "      <td>NaT</td>\n",
       "      <td>1920.0</td>\n",
       "    </tr>\n",
       "  </tbody>\n",
       "</table>\n",
       "<p>3966 rows × 3 columns</p>\n",
       "</div>"
      ],
      "text/plain": [
       "        Object ID AccessionYear  MedianYear\n",
       "123           132           NaT      1951.0\n",
       "130           141           NaT      1951.0\n",
       "131           142           NaT      1951.0\n",
       "238           279           NaT      1951.0\n",
       "394           449           NaT      1951.0\n",
       "...           ...           ...         ...\n",
       "474515     845712           NaT      2009.0\n",
       "474516     845713           NaT      2009.0\n",
       "474517     845714           NaT      2009.0\n",
       "474523     846327           NaT      1920.0\n",
       "474524     846333           NaT      1920.0\n",
       "\n",
       "[3966 rows x 3 columns]"
      ]
     },
     "execution_count": 50,
     "metadata": {},
     "output_type": "execute_result"
    }
   ],
   "source": [
    "print(\"Původní počet chybějících hodnot: \" + str(df['AccessionYear'].isnull().sum()))\n",
    "df['Year'] = df['AccessionYear'].dt.year\n",
    "df['MedianYear'] = df['AccessionYear'].dt.year\n",
    "df.loc[df['Year'].isnull(), 'MedianYear'] = df[df['Year'].isnull()]['Department'].apply(lambda x: df.groupby('Department')['Year'].median()[x])\n",
    "df.drop('Year', axis=1, inplace=True)\n",
    "dataWithImpution = df[['Object ID', 'AccessionYear', 'MedianYear']]\n",
    "dataWithImpution[dataWithImpution['AccessionYear'].isnull()]"
   ]
  },
  {
   "cell_type": "code",
   "execution_count": 51,
   "metadata": {},
   "outputs": [
    {
     "name": "stdout",
     "output_type": "stream",
     "text": [
      "Nový počet chybějících hodnot: 0\n"
     ]
    }
   ],
   "source": [
    "df['AccessionYear'] = pd.to_datetime(df['MedianYear'], format='%Y').astype('datetime64[Y]')\n",
    "df.drop('MedianYear', axis=1, inplace=True)\n",
    "print(\"Nový počet chybějících hodnot: \" + str(df['AccessionYear'].isnull().sum()))"
   ]
  }
 ],
 "metadata": {
  "kernelspec": {
   "display_name": "Python 3",
   "language": "python",
   "name": "python3"
  },
  "language_info": {
   "codemirror_mode": {
    "name": "ipython",
    "version": 3
   },
   "file_extension": ".py",
   "mimetype": "text/x-python",
   "name": "python",
   "nbconvert_exporter": "python",
   "pygments_lexer": "ipython3",
   "version": "3.7.6"
  }
 },
 "nbformat": 4,
 "nbformat_minor": 4
}
